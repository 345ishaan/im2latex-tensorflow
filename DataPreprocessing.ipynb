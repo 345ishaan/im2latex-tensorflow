{
 "cells": [
  {
   "cell_type": "code",
   "execution_count": 1,
   "metadata": {
    "collapsed": true
   },
   "outputs": [],
   "source": [
    "import numpy as np\n",
    "import re\n",
    "from IPython.display import display, Math, Latex, Image"
   ]
  },
  {
   "cell_type": "code",
   "execution_count": 3,
   "metadata": {
    "collapsed": false
   },
   "outputs": [
    {
     "name": "stdout",
     "output_type": "stream",
     "text": [
      "502\n"
     ]
    }
   ],
   "source": [
    "file_list = open(\"im2markup/train_filter.lst\",'r').readlines()\n",
    "vocab = open(\"im2markup/latex_vocab.txt\").readlines()\n",
    "formulae = open(\"im2markup/formulas.norm.lst\",'r').readlines()\n",
    "char_to_idx = {x.split('\\n')[0]:i for i,x in enumerate(vocab)}\n",
    "# print len(char_to_idx)\n",
    "char_to_idx['#UNK'] = len(char_to_idx)\n",
    "char_to_idx['#START'] = len(char_to_idx)\n",
    "char_to_idx['#END'] = len(char_to_idx)\n",
    "idx_to_char = {y:x for x,y in char_to_idx.iteritems()}\n",
    "# print char_to_idx['#UNK']\n",
    "# print char_to_idx['#START']\n",
    "# print char_to_idx['#END']\n",
    "print len(char_to_idx)"
   ]
  },
  {
   "cell_type": "code",
   "execution_count": 4,
   "metadata": {
    "collapsed": false
   },
   "outputs": [
    {
     "name": "stdout",
     "output_type": "stream",
     "text": [
      "20  not found!\n",
      "\\mathaccent  not found!\n",
      "0.9  not found!\n",
      "\\left/  not found!\n",
      "\\^  not found!\n",
      "\\brack  not found!\n",
      "\\protecte  not found!\n",
      "1.7  not found!\n",
      "\\bigvee  not found!\n",
      "\\biggm  not found!\n",
      "\\fill  not found!\n",
      "\\verb  not found!\n",
      "\\newcommand  not found!\n",
      "#  not found!\n",
      "\\protectZ  not found!\n",
      "2.1  not found!\n",
      "\\rightarrowfill  not found!\n",
      "\\left>  not found!\n",
      "\\right<  not found!\n",
      "\\nearrow  not found!\n",
      "10  not found!\n",
      "\\protectE  not found!\n",
      "\\mathord  not found!\n",
      "\\protectm  not found!\n",
      "\\triangleleft  not found!\n",
      "\\root  not found!\n",
      "\\of  not found!\n",
      "\\preceq  not found!\n",
      "\\vector  not found!\n",
      "\\overwithdelims  not found!\n",
      "\\left]  not found!\n",
      "\\right[  not found!\n",
      "\\left\\lceil  not found!\n",
      "\\right\\rceil  not found!\n",
      "\\leavevmode  not found!\n",
      "\\mathstrut  not found!\n",
      "\\symbol  not found!\n",
      "\\footnotemark  not found!\n",
      "\\mathopen  not found!\n",
      "\\mathclose  not found!\n",
      "\\nulldelimiterspace  not found!\n",
      "\\brace  not found!\n",
      "\\searrow  not found!\n",
      "0.23  not found!\n",
      "\\atopwithdelims  not found!\n",
      "\\right/  not found!\n"
     ]
    }
   ],
   "source": [
    "train = []\n",
    "missing = {}\n",
    "for i,line in enumerate(file_list):\n",
    "    form = formulae[int(line.split()[1])].strip().split()\n",
    "    out_form = [char_to_idx['#START']]\n",
    "    for c in form:\n",
    "        try:\n",
    "            out_form += [char_to_idx[c]]\n",
    "        except:\n",
    "            if c not in missing:\n",
    "                print c, \" not found!\"\n",
    "                missing[c] = 1\n",
    "            else:\n",
    "                missing[c] += 1\n",
    "            out_form += [char_to_idx['#UNK']]\n",
    "    out_form += [char_to_idx['#END']]\n",
    "    train.append([line.split()[0],out_form])"
   ]
  },
  {
   "cell_type": "code",
   "execution_count": 5,
   "metadata": {
    "collapsed": false
   },
   "outputs": [
    {
     "name": "stdout",
     "output_type": "stream",
     "text": [
      "(500, 100)\n"
     ]
    }
   ],
   "source": [
    "print missing\n",
    "print max([len(x[1]) for x in train])\n",
    "import numpy as np\n",
    "np.save('train_list',np.array(train,dtype=object))\n",
    "\n",
    "train_buckets = {}\n",
    "from PIL import Image\n",
    "for x,y in train:\n",
    "    img_shp = Image.open('./images_processed/'+x).size\n",
    "    try:\n",
    "        img_shp[img_shp] += [(x,y)]\n",
    "    except:\n",
    "        img_shp[img_shp] = [(x,y)]\n",
    "\n",
    "np.save('train_list_buckets',train_buckets)"
   ]
  },
  {
   "cell_type": "code",
   "execution_count": 6,
   "metadata": {
    "collapsed": true
   },
   "outputs": [],
   "source": [
    "properties = {}\n",
    "properties['vocab_size'] = len(vocab)\n",
    "properties['vocab'] = vocab\n",
    "properties['char_to_idx'] = char_to_idx\n",
    "properties['idx_to_char'] = idx_to_char\n",
    "import numpy as np\n",
    "np.save('properties',properties)"
   ]
  }
 ],
 "metadata": {
  "kernelspec": {
   "display_name": "Python 2",
   "language": "python",
   "name": "python2"
  },
  "language_info": {
   "codemirror_mode": {
    "name": "ipython",
    "version": 2
   },
   "file_extension": ".py",
   "mimetype": "text/x-python",
   "name": "python",
   "nbconvert_exporter": "python",
   "pygments_lexer": "ipython2",
   "version": "2.7.12"
  }
 },
 "nbformat": 4,
 "nbformat_minor": 1
}
