{
 "cells": [
  {
   "cell_type": "code",
   "execution_count": 1,
   "metadata": {
    "collapsed": true
   },
   "outputs": [],
   "source": [
    "import numpy as np\n",
    "import re\n",
    "from IPython.display import display, Math, Latex, Image"
   ]
  },
  {
   "cell_type": "code",
   "execution_count": 68,
   "metadata": {
    "collapsed": false
   },
   "outputs": [],
   "source": [
    "train_list = cPickle.load(open('train_final.p','r'))\n",
    "def checkMapping(idx, train_list):\n",
    "    import cPickle\n",
    "    props = np.load('properties.npy').tolist()\n",
    "    file_name, idx_formula = train_list[idx]\n",
    "    display(Image(filename='./cropped_images/'+file_name))\n",
    "    formula = ''.join([props['idx_to_char'][x] for x in idx_formula[1:-1]]).replace('#UNK',' ')\n",
    "    display(Math(formula))"
   ]
  },
  {
   "cell_type": "code",
   "execution_count": 70,
   "metadata": {
    "collapsed": false
   },
   "outputs": [
    {
     "data": {
      "image/png": "[encoded data removed]",
      "text/plain": [
       "<IPython.core.display.Image object>"
      ]
     },
     "metadata": {},
     "output_type": "display_data"
    },
    {
     "data": {
      "text/latex": [
       "$$v ^ { k _ { 1 } } \\otimes v ^ { k _ { 2 } } \\otimes \\cdots \\otimes v ^ { k _ { c } } = a ^ { k _ { 1 } \\dagger } a ^ { k _ { 2 } \\dagger } \\cdots a ^ { k _ { c } \\dagger } \\Omega .$$"
      ],
      "text/plain": [
       "<IPython.core.display.Math object>"
      ]
     },
     "metadata": {},
     "output_type": "display_data"
    }
   ],
   "source": [
    "checkMapping(9913,train_list)"
   ]
  },
  {
   "cell_type": "code",
   "execution_count": 3,
   "metadata": {
    "collapsed": false
   },
   "outputs": [
    {
     "name": "stdout",
     "output_type": "stream",
     "text": [
      "502\n"
     ]
    }
   ],
   "source": [
    "file_list = open(\"im2markup/train_filter.lst\",'r').readlines()\n",
    "vocab = open(\"im2markup/latex_vocab.txt\").readlines()\n",
    "formulae = open(\"im2markup/formulas.norm.lst\",'r').readlines()\n",
    "char_to_idx = {x.split('\\n')[0]:i for i,x in enumerate(vocab)}\n",
    "# print len(char_to_idx)\n",
    "char_to_idx['#UNK'] = len(char_to_idx)\n",
    "char_to_idx['#START'] = len(char_to_idx)\n",
    "char_to_idx['#END'] = len(char_to_idx)\n",
    "idx_to_char = {y:x for x,y in char_to_idx.iteritems()}\n",
    "# print char_to_idx['#UNK']\n",
    "# print char_to_idx['#START']\n",
    "# print char_to_idx['#END']\n",
    "print len(char_to_idx)"
   ]
  },
  {
   "cell_type": "code",
   "execution_count": 4,
   "metadata": {
    "collapsed": false
   },
   "outputs": [
    {
     "name": "stdout",
     "output_type": "stream",
     "text": [
      "20  not found!\n",
      "\\mathaccent  not found!\n",
      "0.9  not found!\n",
      "\\left/  not found!\n",
      "\\^  not found!\n",
      "\\brack  not found!\n",
      "\\protecte  not found!\n",
      "1.7  not found!\n",
      "\\bigvee  not found!\n",
      "\\biggm  not found!\n",
      "\\fill  not found!\n",
      "\\verb  not found!\n",
      "\\newcommand  not found!\n",
      "#  not found!\n",
      "\\protectZ  not found!\n",
      "2.1  not found!\n",
      "\\rightarrowfill  not found!\n",
      "\\left>  not found!\n",
      "\\right<  not found!\n",
      "\\nearrow  not found!\n",
      "10  not found!\n",
      "\\protectE  not found!\n",
      "\\mathord  not found!\n",
      "\\protectm  not found!\n",
      "\\triangleleft  not found!\n",
      "\\root  not found!\n",
      "\\of  not found!\n",
      "\\preceq  not found!\n",
      "\\vector  not found!\n",
      "\\overwithdelims  not found!\n",
      "\\left]  not found!\n",
      "\\right[  not found!\n",
      "\\left\\lceil  not found!\n",
      "\\right\\rceil  not found!\n",
      "\\leavevmode  not found!\n",
      "\\mathstrut  not found!\n",
      "\\symbol  not found!\n",
      "\\footnotemark  not found!\n",
      "\\mathopen  not found!\n",
      "\\mathclose  not found!\n",
      "\\nulldelimiterspace  not found!\n",
      "\\brace  not found!\n",
      "\\searrow  not found!\n",
      "0.23  not found!\n",
      "\\atopwithdelims  not found!\n",
      "\\right/  not found!\n"
     ]
    }
   ],
   "source": [
    "train = []\n",
    "missing = {}\n",
    "for i,line in enumerate(file_list):\n",
    "    form = formulae[int(line.split()[1])].strip().split()\n",
    "    out_form = [char_to_idx['#START']]\n",
    "    for c in form:\n",
    "        try:\n",
    "            out_form += [char_to_idx[c]]\n",
    "        except:\n",
    "            if c not in missing:\n",
    "                print c, \" not found!\"\n",
    "                missing[c] = 1\n",
    "            else:\n",
    "                missing[c] += 1\n",
    "            out_form += [char_to_idx['#UNK']]\n",
    "    out_form += [char_to_idx['#END']]\n",
    "    train.append([line.split()[0],out_form])"
   ]
  },
  {
   "cell_type": "code",
   "execution_count": 5,
   "metadata": {
    "collapsed": false
   },
   "outputs": [
    {
     "name": "stdout",
     "output_type": "stream",
     "text": [
      "(500, 100)\n"
     ]
    }
   ],
   "source": [
    "print missing\n",
    "print max([len(x[1]) for x in train])\n",
    "import numpy as np\n",
    "np.save('train_list',np.array(train,dtype=object))\n",
    "\n",
    "train_buckets = {}\n",
    "from PIL import Image\n",
    "for x,y in train:\n",
    "    img_shp = Image.open('./images_processed/'+x).size\n",
    "    try:\n",
    "        img_shp[img_shp] += [(x,y)]\n",
    "    except:\n",
    "        img_shp[img_shp] = [(x,y)]\n",
    "\n",
    "np.save('train_list_buckets',train_buckets)"
   ]
  },
  {
   "cell_type": "code",
   "execution_count": 6,
   "metadata": {
    "collapsed": true
   },
   "outputs": [],
   "source": [
    "properties = {}\n",
    "properties['vocab_size'] = len(vocab)\n",
    "properties['vocab'] = vocab\n",
    "properties['char_to_idx'] = char_to_idx\n",
    "properties['idx_to_char'] = idx_to_char\n",
    "import numpy as np\n",
    "np.save('properties',properties)"
   ]
  },
  {
   "cell_type": "code",
   "execution_count": 16,
   "metadata": {
    "collapsed": false
   },
   "outputs": [],
   "source": [
    "displayIdxs = lambda Y: display(Math(''.join(map(lambda x: properties['idx_to_char'][x],Y))))"
   ]
  },
  {
   "cell_type": "code",
   "execution_count": 2,
   "metadata": {
    "collapsed": false
   },
   "outputs": [],
   "source": [
    "import numpy as np\n",
    "imgs = np.load('pred_imgs.npy')\n",
    "preds = np.load('pred_latex.npy')\n",
    "properties = np.load('properties.npy').tolist()\n",
    "displayPreds = lambda Y: display(Math(Y.split('#END')[0]))"
   ]
  },
  {
   "cell_type": "code",
   "execution_count": 8,
   "metadata": {
    "collapsed": false
   },
   "outputs": [
    {
     "data": {
      "text/latex": [
       "$$a \\frac { d } { d a } \\lambda _ { i } ^ { ( j ) N } = \\gamma _ { i } ^ { ( j ) } \\lambda _ { i } ^ { ( j ) N } + \\sum _ { k } c _ { i r , s } \\alpha ^ { n _ { 1 } } \\left( \\frac { \\alpha } { \\epsilon } \\right) ^ { n _ { 2 } } \\left( \\alpha \\operatorname { l n } ( \\frac { a } { z _ { h } } ) \\right) ^ { n _ { 3 } } \\left( \\frac { a } { z _ { h } } \\right) ^ { \\gamma _ { 1 } ^ { 1 } + \\tilde { \\gamma } _ { s } } . $$"
      ],
      "text/plain": [
       "<IPython.core.display.Math object>"
      ]
     },
     "metadata": {},
     "output_type": "display_data"
    },
    {
     "name": "stdout",
     "output_type": "stream",
     "text": [
      "[500 464 205 495 468 497 495 468 464 497 236 462 495 473 497 461 495   4\n",
      " 475   5  52 497  35 207 462 495 473 497 461 495   4 475   5 497 236 462\n",
      " 495 473 497 461 495   4 475   5  52 497   7 403 462 495 476 497 466 462\n",
      " 495 473 485   8 486 497 121 461 495 480 462 495  20 497 497 245 205 495\n",
      " 121 497 495 196 497 352 461 495 480 462 495  21 497 497 245 121 312 495\n",
      " 477 480 497   4 205 495 464 497 495 494 462 495 472 497 497   5 352 461\n",
      " 495 480 462 495  22 497 497 245 205 495 464 497 495 494 462 495 472 497\n",
      " 497 352 461 495 207 462 495  20 497 461 495  20 497   7 419 495 207 497\n",
      " 462 495 486 497 497  12 501 501 462 495 472 497 461 495   4  20]\n",
      "a \\frac { d } { d a } \\lambda _ { i } ^ { ( j ) N } = \\gamma _ { i } ^ { ( j ) } \\lambda _ { i } ^ { ( j ) N } + \\sum _ { k } c _ { i r , s } \\alpha ^ { n _ { 1 } } \\left( \\frac { \\alpha } { \\epsilon } \\right) ^ { n _ { 2 } } \\left( \\alpha \\operatorname { l n } ( \\frac { a } { z _ { h } } ) \\right) ^ { n _ { 3 } } \\left( \\frac { a } { z _ { h } } \\right) ^ { \\gamma _ { 1 } ^ { 1 } + \\tilde { \\gamma } _ { s } } . #END #END _ { h } ^ { ( 1\n",
      "(1, 100, 500)\n"
     ]
    }
   ],
   "source": [
    "i=18\n",
    "idx_to_chars = lambda Y: ' '.join(map(lambda x: properties['idx_to_char'][x],Y))\n",
    "preds_chars = idx_to_chars(preds[i,1:]).replace('$','')\n",
    "displayPreds(preds_chars)\n",
    "print preds[i]\n",
    "print preds_chars\n",
    "%matplotlib inline\n",
    "from PIL import Image\n",
    "print imgs[0].shape\n",
    "Image.fromarray(imgs[i][0]).show()"
   ]
  },
  {
   "cell_type": "code",
   "execution_count": 2,
   "metadata": {
    "collapsed": false
   },
   "outputs": [
    {
     "data": {
      "text/latex": [
       "$$T_{\\nu}^{\\mu}=F_{\\mu\\nu}^{a}+\\frac12[f_{a}^{\\mu},x_{\\nu}^{\\mu}]+[(\\tau_{\\mu\\nu}^{I}x^{\\mu})_{a}-2A^{\\mu}(x_{1}-x_{2})\\Delta_{\\nu}],\\quad\\sigma=-T_{1}$$"
      ],
      "text/plain": [
       "<IPython.core.display.Math object>"
      ]
     },
     "metadata": {},
     "output_type": "display_data"
    }
   ],
   "source": [
    "display(Math('T_{\\\\nu}^{\\\\mu}=F_{\\\\mu\\\\nu}^{a}+\\\\frac12[f_{a}^{\\\\mu},x_{\\\\nu}^{\\\\mu}]+[(\\\\tau_{\\\\mu\\\\nu}^{I}x^{\\\\mu})_{a}-2A^{\\\\mu}(x_{1}-x_{2})\\\\Delta_{\\\\nu}],\\\\quad\\\\sigma=-T_{1}'))"
   ]
  }
 ],
 "metadata": {
  "kernelspec": {
   "display_name": "Python 2",
   "language": "python",
   "name": "python2"
  },
  "language_info": {
   "codemirror_mode": {
    "name": "ipython",
    "version": 2
   },
   "file_extension": ".py",
   "mimetype": "text/x-python",
   "name": "python",
   "nbconvert_exporter": "python",
   "pygments_lexer": "ipython2",
   "version": "2.7.12"
  }
 },
 "nbformat": 4,
 "nbformat_minor": 1
}
