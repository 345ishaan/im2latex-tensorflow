{
 "cells": [
  {
   "cell_type": "code",
   "execution_count": 1,
   "metadata": {
    "collapsed": true
   },
   "outputs": [],
   "source": [
    "import numpy as np\n",
    "import re\n",
    "from IPython.display import display, Math, Latex, Image"
   ]
  },
  {
   "cell_type": "markdown",
   "metadata": {},
   "source": [
    "### Load properties file, result files created by predict() function"
   ]
  },
  {
   "cell_type": "code",
   "execution_count": 8,
   "metadata": {
    "collapsed": true
   },
   "outputs": [],
   "source": [
    "import numpy as np\n",
    "imgs = np.load('pred_imgs.npy')\n",
    "preds = np.load('pred_latex.npy')\n",
    "properties = np.load('properties.npy').tolist()\n",
    "displayPreds = lambda Y: display(Math(Y.split('#END')[0]))\n",
    "idx_to_chars = lambda Y: ' '.join(map(lambda x: properties['idx_to_char'][x],Y))\n",
    "#displayIdxs = lambda Y: display(Math(''.join(map(lambda x: properties['idx_to_char'][x],Y))))"
   ]
  },
  {
   "cell_type": "markdown",
   "metadata": {},
   "source": [
    "### Prepare Image display function"
   ]
  },
  {
   "cell_type": "code",
   "execution_count": 9,
   "metadata": {
    "collapsed": true
   },
   "outputs": [],
   "source": [
    "import PIL.Image\n",
    "from cStringIO import StringIO\n",
    "import IPython.display\n",
    "import numpy as np\n",
    "def showarray(a, fmt='png'):\n",
    "    a = np.uint8(a)\n",
    "    f = StringIO()\n",
    "    PIL.Image.fromarray(a).save(f, fmt)\n",
    "    IPython.display.display(IPython.display.Image(data=f.getvalue()))"
   ]
  },
  {
   "cell_type": "markdown",
   "metadata": {},
   "source": [
    "### Display original Input image, predicted latex tokens and render the corresponding result"
   ]
  },
  {
   "cell_type": "code",
   "execution_count": 10,
   "metadata": {
    "collapsed": false
   },
   "outputs": [
    {
     "name": "stdout",
     "output_type": "stream",
     "text": [
      "Original (Input) Image: 1\n"
     ]
    },
    {
     "data": {
      "image/png": "[encoded data removed]",
      "text/plain": [
       "<IPython.core.display.Image object>"
      ]
     },
     "metadata": {},
     "output_type": "display_data"
    },
    {
     "name": "stdout",
     "output_type": "stream",
     "text": [
      "Predicted Latex\n",
      "S _ { \\mathrm { B R F } } ( { \\cal M } , t ) = S _ { \\mathrm { C a r a n } } + S _ { \\mathrm { o f f - d i a g } } ~ , ~ ~ \n",
      "\n",
      "Rendering the predicted latex\n"
     ]
    },
    {
     "data": {
      "text/latex": [
       "$$S _ { \\mathrm { B R F } } ( { \\cal M } , t ) = S _ { \\mathrm { C a r a n } } + S _ { \\mathrm { o f f - d i a g } } ~ , ~ ~ $$"
      ],
      "text/plain": [
       "<IPython.core.display.Math object>"
      ]
     },
     "metadata": {},
     "output_type": "display_data"
    },
    {
     "name": "stdout",
     "output_type": "stream",
     "text": [
      "\n",
      "\n",
      "Original (Input) Image: 2\n"
     ]
    },
    {
     "data": {
      "image/png": "[encoded data removed]",
      "text/plain": [
       "<IPython.core.display.Image object>"
      ]
     },
     "metadata": {},
     "output_type": "display_data"
    },
    {
     "name": "stdout",
     "output_type": "stream",
     "text": [
      "Predicted Latex\n",
      "Z ( \\Delta \\beta ) = \\int d { \\bf r } \\cdot \\rho ( { \\bf r } , \\beta ; { \\bf r } _ { 0 } , \\beta _ { 0 } ) \\mid _ { { \\bf r } ( \\beta ) = r ( { \\beta } _ { 0 } ) } \n",
      "\n",
      "Rendering the predicted latex\n"
     ]
    },
    {
     "data": {
      "text/latex": [
       "$$Z ( \\Delta \\beta ) = \\int d { \\bf r } \\cdot \\rho ( { \\bf r } , \\beta ; { \\bf r } _ { 0 } , \\beta _ { 0 } ) \\mid _ { { \\bf r } ( \\beta ) = r ( { \\beta } _ { 0 } ) } $$"
      ],
      "text/plain": [
       "<IPython.core.display.Math object>"
      ]
     },
     "metadata": {},
     "output_type": "display_data"
    },
    {
     "name": "stdout",
     "output_type": "stream",
     "text": [
      "\n",
      "\n",
      "Original (Input) Image: 3\n"
     ]
    },
    {
     "data": {
      "image/png": "[encoded data removed]",
      "text/plain": [
       "<IPython.core.display.Image object>"
      ]
     },
     "metadata": {},
     "output_type": "display_data"
    },
    {
     "name": "stdout",
     "output_type": "stream",
     "text": [
      "Predicted Latex\n",
      "B _ { i } ^ { 2 } = ( d e t D ) ^ { - 1 } D _ { i j } [ v ^ { - 1 } e ^ { - \\phi } E _ { j } ^ { 1 } + \\psi B _ { j } ^ { 1 } ] . \n",
      "\n",
      "Rendering the predicted latex\n"
     ]
    },
    {
     "data": {
      "text/latex": [
       "$$B _ { i } ^ { 2 } = ( d e t D ) ^ { - 1 } D _ { i j } [ v ^ { - 1 } e ^ { - \\phi } E _ { j } ^ { 1 } + \\psi B _ { j } ^ { 1 } ] . $$"
      ],
      "text/plain": [
       "<IPython.core.display.Math object>"
      ]
     },
     "metadata": {},
     "output_type": "display_data"
    },
    {
     "name": "stdout",
     "output_type": "stream",
     "text": [
      "\n",
      "\n",
      "Original (Input) Image: 4\n"
     ]
    },
    {
     "data": {
      "image/png": "[encoded data removed]",
      "text/plain": [
       "<IPython.core.display.Image object>"
      ]
     },
     "metadata": {},
     "output_type": "display_data"
    },
    {
     "name": "stdout",
     "output_type": "stream",
     "text": [
      "Predicted Latex\n",
      "\\beta _ { p p ^ { \\prime } } ^ { 2 } - \\beta _ { p p } \\beta _ { p p ^ { \\prime } } = 0 \\qquad ( \\mathrm { f o r ~ e v e r y } p , \\, p ^ { \\prime } ) , \n",
      "\n",
      "Rendering the predicted latex\n"
     ]
    },
    {
     "data": {
      "text/latex": [
       "$$\\beta _ { p p ^ { \\prime } } ^ { 2 } - \\beta _ { p p } \\beta _ { p p ^ { \\prime } } = 0 \\qquad ( \\mathrm { f o r ~ e v e r y } p , \\, p ^ { \\prime } ) , $$"
      ],
      "text/plain": [
       "<IPython.core.display.Math object>"
      ]
     },
     "metadata": {},
     "output_type": "display_data"
    },
    {
     "name": "stdout",
     "output_type": "stream",
     "text": [
      "\n",
      "\n",
      "Original (Input) Image: 5\n"
     ]
    },
    {
     "data": {
      "image/png": "[encoded data removed]",
      "text/plain": [
       "<IPython.core.display.Image object>"
      ]
     },
     "metadata": {},
     "output_type": "display_data"
    },
    {
     "name": "stdout",
     "output_type": "stream",
     "text": [
      "Predicted Latex\n",
      "{ \\cal Z } = { \\cal W } [ \\phi ( z = \\infty ) ] - { \\cal W } [ \\phi ( z = - \\infty ) ] \\, . \n",
      "\n",
      "Rendering the predicted latex\n"
     ]
    },
    {
     "data": {
      "text/latex": [
       "$${ \\cal Z } = { \\cal W } [ \\phi ( z = \\infty ) ] - { \\cal W } [ \\phi ( z = - \\infty ) ] \\, . $$"
      ],
      "text/plain": [
       "<IPython.core.display.Math object>"
      ]
     },
     "metadata": {},
     "output_type": "display_data"
    },
    {
     "name": "stdout",
     "output_type": "stream",
     "text": [
      "\n",
      "\n",
      "Original (Input) Image: 6\n"
     ]
    },
    {
     "data": {
      "image/png": "[encoded data removed]",
      "text/plain": [
       "<IPython.core.display.Image object>"
      ]
     },
     "metadata": {},
     "output_type": "display_data"
    },
    {
     "name": "stdout",
     "output_type": "stream",
     "text": [
      "Predicted Latex\n",
      "( \\delta _ { c a } \\delta _ { b d } - \\delta _ { c d } \\delta _ { b a } ) = C _ { e c } C _ { a d } ^ { e } - C _ { e [ c b } C _ { a d } ^ { e } . \n",
      "\n",
      "Rendering the predicted latex\n"
     ]
    },
    {
     "data": {
      "text/latex": [
       "$$( \\delta _ { c a } \\delta _ { b d } - \\delta _ { c d } \\delta _ { b a } ) = C _ { e c } C _ { a d } ^ { e } - C _ { e [ c b } C _ { a d } ^ { e } . $$"
      ],
      "text/plain": [
       "<IPython.core.display.Math object>"
      ]
     },
     "metadata": {},
     "output_type": "display_data"
    },
    {
     "name": "stdout",
     "output_type": "stream",
     "text": [
      "\n",
      "\n",
      "Original (Input) Image: 7\n"
     ]
    },
    {
     "data": {
      "image/png": "[encoded data removed]",
      "text/plain": [
       "<IPython.core.display.Image object>"
      ]
     },
     "metadata": {},
     "output_type": "display_data"
    },
    {
     "name": "stdout",
     "output_type": "stream",
     "text": [
      "Predicted Latex\n",
      "V _ { - b / 2 } V _ { \\alpha } = C _ { + } \\left[ V _ { \\alpha - b / 2 } \\right] + C _ { - } \\left[ V _ { \\alpha + b / 2 } \\right] \n",
      "\n",
      "Rendering the predicted latex\n"
     ]
    },
    {
     "data": {
      "text/latex": [
       "$$V _ { - b / 2 } V _ { \\alpha } = C _ { + } \\left[ V _ { \\alpha - b / 2 } \\right] + C _ { - } \\left[ V _ { \\alpha + b / 2 } \\right] $$"
      ],
      "text/plain": [
       "<IPython.core.display.Math object>"
      ]
     },
     "metadata": {},
     "output_type": "display_data"
    },
    {
     "name": "stdout",
     "output_type": "stream",
     "text": [
      "\n",
      "\n",
      "Original (Input) Image: 8\n"
     ]
    },
    {
     "data": {
      "image/png": "[encoded data removed]",
      "text/plain": [
       "<IPython.core.display.Image object>"
      ]
     },
     "metadata": {},
     "output_type": "display_data"
    },
    {
     "name": "stdout",
     "output_type": "stream",
     "text": [
      "Predicted Latex\n",
      "( \\delta _ { c a } \\delta _ { b d } - \\delta _ { c d } \\delta _ { b a } ) = C _ { e c } C _ { a d } ^ { e } - C _ { e [ c b } C _ { a d } ^ { e } . \n",
      "\n",
      "Rendering the predicted latex\n"
     ]
    },
    {
     "data": {
      "text/latex": [
       "$$( \\delta _ { c a } \\delta _ { b d } - \\delta _ { c d } \\delta _ { b a } ) = C _ { e c } C _ { a d } ^ { e } - C _ { e [ c b } C _ { a d } ^ { e } . $$"
      ],
      "text/plain": [
       "<IPython.core.display.Math object>"
      ]
     },
     "metadata": {},
     "output_type": "display_data"
    },
    {
     "name": "stdout",
     "output_type": "stream",
     "text": [
      "\n",
      "\n",
      "Original (Input) Image: 9\n"
     ]
    },
    {
     "data": {
      "image/png": "[encoded data removed]",
      "text/plain": [
       "<IPython.core.display.Image object>"
      ]
     },
     "metadata": {},
     "output_type": "display_data"
    },
    {
     "name": "stdout",
     "output_type": "stream",
     "text": [
      "Predicted Latex\n",
      "I [ g , \\Gamma ] = G ^ { 2 } \\int ( R ^ { 2 } + G ^ { 2 } \\Lambda ^ { 2 } ) ^ { 2 } \\sqrt { g } d ^ { 4 } x \n",
      "\n",
      "Rendering the predicted latex\n"
     ]
    },
    {
     "data": {
      "text/latex": [
       "$$I [ g , \\Gamma ] = G ^ { 2 } \\int ( R ^ { 2 } + G ^ { 2 } \\Lambda ^ { 2 } ) ^ { 2 } \\sqrt { g } d ^ { 4 } x $$"
      ],
      "text/plain": [
       "<IPython.core.display.Math object>"
      ]
     },
     "metadata": {},
     "output_type": "display_data"
    },
    {
     "name": "stdout",
     "output_type": "stream",
     "text": [
      "\n",
      "\n",
      "Original (Input) Image: 10\n"
     ]
    },
    {
     "data": {
      "image/png": "[encoded data removed]",
      "text/plain": [
       "<IPython.core.display.Image object>"
      ]
     },
     "metadata": {},
     "output_type": "display_data"
    },
    {
     "name": "stdout",
     "output_type": "stream",
     "text": [
      "Predicted Latex\n",
      "S _ { f } ^ { f r e e } ( m ; \\psi , \\overline { { \\psi } } ) = - [ \\overline { { \\psi } } \\gamma ^ { \\mu } \\partial _ { \\mu } \\psi + m \\overline { { \\psi } } \\psi ] . \n",
      "\n",
      "Rendering the predicted latex\n"
     ]
    },
    {
     "data": {
      "text/latex": [
       "$$S _ { f } ^ { f r e e } ( m ; \\psi , \\overline { { \\psi } } ) = - [ \\overline { { \\psi } } \\gamma ^ { \\mu } \\partial _ { \\mu } \\psi + m \\overline { { \\psi } } \\psi ] . $$"
      ],
      "text/plain": [
       "<IPython.core.display.Math object>"
      ]
     },
     "metadata": {},
     "output_type": "display_data"
    },
    {
     "name": "stdout",
     "output_type": "stream",
     "text": [
      "\n",
      "\n",
      "Original (Input) Image: 11\n"
     ]
    },
    {
     "data": {
      "image/png": "[encoded data removed]",
      "text/plain": [
       "<IPython.core.display.Image object>"
      ]
     },
     "metadata": {},
     "output_type": "display_data"
    },
    {
     "name": "stdout",
     "output_type": "stream",
     "text": [
      "Predicted Latex\n",
      "e ^ { - T V ( R ) } \\; = \\int [ D \\mathbf { u } ] \\, e ^ { - { \\cal A } _ { E [ \\mathbf { u } ] } } , \\; \\; \\; T \\to \\infty \\, , \n",
      "\n",
      "Rendering the predicted latex\n"
     ]
    },
    {
     "data": {
      "text/latex": [
       "$$e ^ { - T V ( R ) } \\; = \\int [ D \\mathbf { u } ] \\, e ^ { - { \\cal A } _ { E [ \\mathbf { u } ] } } , \\; \\; \\; T \\to \\infty \\, , $$"
      ],
      "text/plain": [
       "<IPython.core.display.Math object>"
      ]
     },
     "metadata": {},
     "output_type": "display_data"
    },
    {
     "name": "stdout",
     "output_type": "stream",
     "text": [
      "\n",
      "\n",
      "Original (Input) Image: 12\n"
     ]
    },
    {
     "data": {
      "image/png": "[encoded data removed]",
      "text/plain": [
       "<IPython.core.display.Image object>"
      ]
     },
     "metadata": {},
     "output_type": "display_data"
    },
    {
     "name": "stdout",
     "output_type": "stream",
     "text": [
      "Predicted Latex\n",
      "{ \\omega } _ { \\mu ^ { \\prime } } ^ { \\; \\; \\; \\; \\; \\; \\; \\; \\; = - L _ { b } { } ^ { d } \\left( \\partial _ { \\mu } L ^ { a } { } _ { d } ) + { L ^ { a } } _ { c } \\, \\omega _ { \\mu } { } ^ { c } { _ { d } } \\, L _ { b } { } ^ { d } \\; . \n",
      "\n",
      "Rendering the predicted latex\n"
     ]
    },
    {
     "data": {
      "text/latex": [
       "$${ \\omega } _ { \\mu ^ { \\prime } } ^ { \\; \\; \\; \\; \\; \\; \\; \\; \\; = - L _ { b } { } ^ { d } \\left( \\partial _ { \\mu } L ^ { a } { } _ { d } ) + { L ^ { a } } _ { c } \\, \\omega _ { \\mu } { } ^ { c } { _ { d } } \\, L _ { b } { } ^ { d } \\; . $$"
      ],
      "text/plain": [
       "<IPython.core.display.Math object>"
      ]
     },
     "metadata": {},
     "output_type": "display_data"
    },
    {
     "name": "stdout",
     "output_type": "stream",
     "text": [
      "\n",
      "\n",
      "Original (Input) Image: 13\n"
     ]
    },
    {
     "data": {
      "image/png": "[encoded data removed]",
      "text/plain": [
       "<IPython.core.display.Image object>"
      ]
     },
     "metadata": {},
     "output_type": "display_data"
    },
    {
     "name": "stdout",
     "output_type": "stream",
     "text": [
      "Predicted Latex\n",
      "\\psi _ { i } ( \\sigma ) \\psi _ { k } ( \\rho ) = S _ { i } ^ { r s } \\psi _ { r } ( \\rho ) \\psi _ { s } ( \\sigma ) \\quad , \\dots \n",
      "\n",
      "Rendering the predicted latex\n"
     ]
    },
    {
     "data": {
      "text/latex": [
       "$$\\psi _ { i } ( \\sigma ) \\psi _ { k } ( \\rho ) = S _ { i } ^ { r s } \\psi _ { r } ( \\rho ) \\psi _ { s } ( \\sigma ) \\quad , \\dots $$"
      ],
      "text/plain": [
       "<IPython.core.display.Math object>"
      ]
     },
     "metadata": {},
     "output_type": "display_data"
    },
    {
     "name": "stdout",
     "output_type": "stream",
     "text": [
      "\n",
      "\n",
      "Original (Input) Image: 14\n"
     ]
    },
    {
     "data": {
      "image/png": "[encoded data removed]",
      "text/plain": [
       "<IPython.core.display.Image object>"
      ]
     },
     "metadata": {},
     "output_type": "display_data"
    },
    {
     "name": "stdout",
     "output_type": "stream",
     "text": [
      "Predicted Latex\n",
      "K _ { s t } \\, \\tilde { \\beta } _ { s u } + K _ { s u } \\, \\tilde { \\beta } _ { s t } = K _ { u t } \\, \\tilde { \\beta } _ { u s } + K _ { u s } \\, \\tilde { \\beta } _ { u t } , \n",
      "\n",
      "Rendering the predicted latex\n"
     ]
    },
    {
     "data": {
      "text/latex": [
       "$$K _ { s t } \\, \\tilde { \\beta } _ { s u } + K _ { s u } \\, \\tilde { \\beta } _ { s t } = K _ { u t } \\, \\tilde { \\beta } _ { u s } + K _ { u s } \\, \\tilde { \\beta } _ { u t } , $$"
      ],
      "text/plain": [
       "<IPython.core.display.Math object>"
      ]
     },
     "metadata": {},
     "output_type": "display_data"
    },
    {
     "name": "stdout",
     "output_type": "stream",
     "text": [
      "\n",
      "\n",
      "Original (Input) Image: 15\n"
     ]
    },
    {
     "data": {
      "image/png": "[encoded data removed]",
      "text/plain": [
       "<IPython.core.display.Image object>"
      ]
     },
     "metadata": {},
     "output_type": "display_data"
    },
    {
     "name": "stdout",
     "output_type": "stream",
     "text": [
      "Predicted Latex\n",
      "R _ { r e g } = \\oplus _ { a = 1 } ^ { r } N _ { a } R ^ { a } , \\quad N _ { a } = \\mathrm { d i m } R ^ { a } \n",
      "\n",
      "Rendering the predicted latex\n"
     ]
    },
    {
     "data": {
      "text/latex": [
       "$$R _ { r e g } = \\oplus _ { a = 1 } ^ { r } N _ { a } R ^ { a } , \\quad N _ { a } = \\mathrm { d i m } R ^ { a } $$"
      ],
      "text/plain": [
       "<IPython.core.display.Math object>"
      ]
     },
     "metadata": {},
     "output_type": "display_data"
    },
    {
     "name": "stdout",
     "output_type": "stream",
     "text": [
      "\n",
      "\n",
      "Original (Input) Image: 16\n"
     ]
    },
    {
     "data": {
      "image/png": "[encoded data removed]",
      "text/plain": [
       "<IPython.core.display.Image object>"
      ]
     },
     "metadata": {},
     "output_type": "display_data"
    },
    {
     "name": "stdout",
     "output_type": "stream",
     "text": [
      "Predicted Latex\n",
      "\\delta \\bar { Q } _ { \\beta } = [ Q _ { \\beta } , \\bar { K } _ { \\epsilon } ] = \\bar { c } _ { i } \\epsilon ^ { i j } ( i q _ { j } + \\beta \\partial _ { j } H ) , \n",
      "\n",
      "Rendering the predicted latex\n"
     ]
    },
    {
     "data": {
      "text/latex": [
       "$$\\delta \\bar { Q } _ { \\beta } = [ Q _ { \\beta } , \\bar { K } _ { \\epsilon } ] = \\bar { c } _ { i } \\epsilon ^ { i j } ( i q _ { j } + \\beta \\partial _ { j } H ) , $$"
      ],
      "text/plain": [
       "<IPython.core.display.Math object>"
      ]
     },
     "metadata": {},
     "output_type": "display_data"
    },
    {
     "name": "stdout",
     "output_type": "stream",
     "text": [
      "\n",
      "\n"
     ]
    }
   ],
   "source": [
    "batch_size=16\n",
    "from PIL import Image as Img\n",
    "for i in xrange(batch_size):\n",
    "    preds_chars = idx_to_chars(preds[i,1:]).replace('$','')\n",
    "    print \"Original (Input) Image: %d\"%(i+1)\n",
    "    showarray(imgs[i][0])\n",
    "    print \"Predicted Latex\"\n",
    "    print preds_chars.split('#END')[0]\n",
    "    print \"\\nRendering the predicted latex\"\n",
    "    displayPreds(preds_chars)\n",
    "    print \"\\n\""
   ]
  },
  {
   "cell_type": "code",
   "execution_count": null,
   "metadata": {
    "collapsed": true
   },
   "outputs": [],
   "source": []
  }
 ],
 "metadata": {
  "kernelspec": {
   "display_name": "Python 2",
   "language": "python",
   "name": "python2"
  },
  "language_info": {
   "codemirror_mode": {
    "name": "ipython",
    "version": 2
   },
   "file_extension": ".py",
   "mimetype": "text/x-python",
   "name": "python",
   "nbconvert_exporter": "python",
   "pygments_lexer": "ipython2",
   "version": "2.7.12"
  }
 },
 "nbformat": 4,
 "nbformat_minor": 1
}
