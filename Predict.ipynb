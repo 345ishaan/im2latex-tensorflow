{
 "cells": [
  {
   "cell_type": "code",
   "execution_count": 1,
   "metadata": {
    "collapsed": true
   },
   "outputs": [],
   "source": [
    "import numpy as np\n",
    "import re\n",
    "from IPython.display import display, Math, Latex, Image"
   ]
  },
  {
   "cell_type": "code",
   "execution_count": 2,
   "metadata": {
    "collapsed": true
   },
   "outputs": [],
   "source": [
    "import numpy as np\n",
    "imgs = np.load('pred_imgs.npy')\n",
    "preds = np.load('pred_latex.npy')\n",
    "properties = np.load('properties.npy').tolist()\n",
    "displayPreds = lambda Y: display(Math(Y.split('#END')[0]))\n",
    "idx_to_chars = lambda Y: ' '.join(map(lambda x: properties['idx_to_char'][x],Y))\n",
    "#displayIdxs = lambda Y: display(Math(''.join(map(lambda x: properties['idx_to_char'][x],Y))))"
   ]
  },
  {
   "cell_type": "code",
   "execution_count": 3,
   "metadata": {
    "collapsed": true
   },
   "outputs": [],
   "source": [
    "import PIL.Image\n",
    "from cStringIO import StringIO\n",
    "import IPython.display\n",
    "import numpy as np\n",
    "def showarray(a, fmt='png'):\n",
    "    a = np.uint8(a)\n",
    "    f = StringIO()\n",
    "    PIL.Image.fromarray(a).save(f, fmt)\n",
    "    IPython.display.display(IPython.display.Image(data=f.getvalue()))"
   ]
  },
  {
   "cell_type": "code",
   "execution_count": 4,
   "metadata": {
    "collapsed": false
   },
   "outputs": [
    {
     "name": "stdout",
     "output_type": "stream",
     "text": [
      "Original Image: 1\n"
     ]
    },
    {
     "data": {
      "image/png": "[encoded data removed]",
      "text/plain": [
       "<IPython.core.display.Image object>"
      ]
     },
     "metadata": {},
     "output_type": "display_data"
    },
    {
     "name": "stdout",
     "output_type": "stream",
     "text": [
      "Predicted (and rendered) Latex\n"
     ]
    },
    {
     "data": {
      "text/latex": [
       "$$\\alpha = 1 \\qquad \\beta = - \\mathrm { i } k \\sqrt { P } \\ . $$"
      ],
      "text/plain": [
       "<IPython.core.display.Math object>"
      ]
     },
     "metadata": {},
     "output_type": "display_data"
    },
    {
     "name": "stdout",
     "output_type": "stream",
     "text": [
      "\n",
      "\n",
      "\n",
      "Original Image: 2\n"
     ]
    },
    {
     "data": {
      "image/png": "[encoded data removed]",
      "text/plain": [
       "<IPython.core.display.Image object>"
      ]
     },
     "metadata": {},
     "output_type": "display_data"
    },
    {
     "name": "stdout",
     "output_type": "stream",
     "text": [
      "Predicted (and rendered) Latex\n"
     ]
    },
    {
     "data": {
      "text/latex": [
       "$$n = ( \\mathrm { o d d ~ i n t e g e r g } ) 2 ^ { c } 1 6 ^ { d } , $$"
      ],
      "text/plain": [
       "<IPython.core.display.Math object>"
      ]
     },
     "metadata": {},
     "output_type": "display_data"
    },
    {
     "name": "stdout",
     "output_type": "stream",
     "text": [
      "\n",
      "\n",
      "\n",
      "Original Image: 3\n"
     ]
    },
    {
     "data": {
      "image/png": "[encoded data removed]",
      "text/plain": [
       "<IPython.core.display.Image object>"
      ]
     },
     "metadata": {},
     "output_type": "display_data"
    },
    {
     "name": "stdout",
     "output_type": "stream",
     "text": [
      "Predicted (and rendered) Latex\n"
     ]
    },
    {
     "data": {
      "text/latex": [
       "$$\\theta _ { \\mu \\nu } ~ = ~ { \\tilde { \\theta } } _ { \\mu \\nu } - { \\textstyle \\frac { 1 } { 2 } } \\, { \\eta } _ { \\mu \\nu } \\, { \\tilde { \\theta } } ~ ~ , $$"
      ],
      "text/plain": [
       "<IPython.core.display.Math object>"
      ]
     },
     "metadata": {},
     "output_type": "display_data"
    },
    {
     "name": "stdout",
     "output_type": "stream",
     "text": [
      "\n",
      "\n",
      "\n",
      "Original Image: 4\n"
     ]
    },
    {
     "data": {
      "image/png": "[encoded data removed]",
      "text/plain": [
       "<IPython.core.display.Image object>"
      ]
     },
     "metadata": {},
     "output_type": "display_data"
    },
    {
     "name": "stdout",
     "output_type": "stream",
     "text": [
      "Predicted (and rendered) Latex\n"
     ]
    },
    {
     "data": {
      "text/latex": [
       "$$\\Delta = P ^ { 2 } \\, , \\qquad P = \\gamma ^ { a } \\nabla _ { a } \\, . $$"
      ],
      "text/plain": [
       "<IPython.core.display.Math object>"
      ]
     },
     "metadata": {},
     "output_type": "display_data"
    },
    {
     "name": "stdout",
     "output_type": "stream",
     "text": [
      "\n",
      "\n",
      "\n",
      "Original Image: 5\n"
     ]
    },
    {
     "data": {
      "image/png": "[encoded data removed]",
      "text/plain": [
       "<IPython.core.display.Image object>"
      ]
     },
     "metadata": {},
     "output_type": "display_data"
    },
    {
     "name": "stdout",
     "output_type": "stream",
     "text": [
      "Predicted (and rendered) Latex\n"
     ]
    },
    {
     "data": {
      "text/latex": [
       "$$s h _ { 2 } + \\rho ^ { \\prime } = \\partial _ { i } \\left( - A ^ { i } \\eta ^ { 2 } \\right) . $$"
      ],
      "text/plain": [
       "<IPython.core.display.Math object>"
      ]
     },
     "metadata": {},
     "output_type": "display_data"
    },
    {
     "name": "stdout",
     "output_type": "stream",
     "text": [
      "\n",
      "\n",
      "\n",
      "Original Image: 6\n"
     ]
    },
    {
     "data": {
      "image/png": "[encoded data removed]",
      "text/plain": [
       "<IPython.core.display.Image object>"
      ]
     },
     "metadata": {},
     "output_type": "display_data"
    },
    {
     "name": "stdout",
     "output_type": "stream",
     "text": [
      "Predicted (and rendered) Latex\n"
     ]
    },
    {
     "data": {
      "text/latex": [
       "$$L ( X , \\theta ) = L _ { 0 } ( X ) + \\tilde { L } ( X , \\theta ) $$"
      ],
      "text/plain": [
       "<IPython.core.display.Math object>"
      ]
     },
     "metadata": {},
     "output_type": "display_data"
    },
    {
     "name": "stdout",
     "output_type": "stream",
     "text": [
      "\n",
      "\n",
      "\n",
      "Original Image: 7\n"
     ]
    },
    {
     "data": {
      "image/png": "[encoded data removed]",
      "text/plain": [
       "<IPython.core.display.Image object>"
      ]
     },
     "metadata": {},
     "output_type": "display_data"
    },
    {
     "name": "stdout",
     "output_type": "stream",
     "text": [
      "Predicted (and rendered) Latex\n"
     ]
    },
    {
     "data": {
      "text/latex": [
       "$$X ^ { \\mu } ( \\tau , \\sigma + \\pi ) = X ^ { \\mu } ( \\tau , \\sigma ) \\; . $$"
      ],
      "text/plain": [
       "<IPython.core.display.Math object>"
      ]
     },
     "metadata": {},
     "output_type": "display_data"
    },
    {
     "name": "stdout",
     "output_type": "stream",
     "text": [
      "\n",
      "\n",
      "\n",
      "Original Image: 8\n"
     ]
    },
    {
     "data": {
      "image/png": "[encoded data removed]",
      "text/plain": [
       "<IPython.core.display.Image object>"
      ]
     },
     "metadata": {},
     "output_type": "display_data"
    },
    {
     "name": "stdout",
     "output_type": "stream",
     "text": [
      "Predicted (and rendered) Latex\n"
     ]
    },
    {
     "data": {
      "text/latex": [
       "$${ \\bf 5 6 } \\rightarrow ( { \\bf 2 } , { \\bf 1 2 } ) + ( { \\bf 1 , 7 2 } ) $$"
      ],
      "text/plain": [
       "<IPython.core.display.Math object>"
      ]
     },
     "metadata": {},
     "output_type": "display_data"
    },
    {
     "name": "stdout",
     "output_type": "stream",
     "text": [
      "\n",
      "\n",
      "\n",
      "Original Image: 9\n"
     ]
    },
    {
     "data": {
      "image/png": "[encoded data removed]",
      "text/plain": [
       "<IPython.core.display.Image object>"
      ]
     },
     "metadata": {},
     "output_type": "display_data"
    },
    {
     "name": "stdout",
     "output_type": "stream",
     "text": [
      "Predicted (and rendered) Latex\n"
     ]
    },
    {
     "data": {
      "text/latex": [
       "$$F \\equiv E _ { c } - \\beta ^ { - 1 } \\sum _ { L > 1 } g _ { L } \\operatorname { l n } Z _ { L } . $$"
      ],
      "text/plain": [
       "<IPython.core.display.Math object>"
      ]
     },
     "metadata": {},
     "output_type": "display_data"
    },
    {
     "name": "stdout",
     "output_type": "stream",
     "text": [
      "\n",
      "\n",
      "\n",
      "Original Image: 10\n"
     ]
    },
    {
     "data": {
      "image/png": "[encoded data removed]",
      "text/plain": [
       "<IPython.core.display.Image object>"
      ]
     },
     "metadata": {},
     "output_type": "display_data"
    },
    {
     "name": "stdout",
     "output_type": "stream",
     "text": [
      "Predicted (and rendered) Latex\n"
     ]
    },
    {
     "data": {
      "text/latex": [
       "$$\\mu k ^ { \\prime \\prime \\prime } + 3 \\mu k k ^ { \\prime } - \\lambda k ^ { \\prime } = 0 . $$"
      ],
      "text/plain": [
       "<IPython.core.display.Math object>"
      ]
     },
     "metadata": {},
     "output_type": "display_data"
    },
    {
     "name": "stdout",
     "output_type": "stream",
     "text": [
      "\n",
      "\n",
      "\n",
      "Original Image: 11\n"
     ]
    },
    {
     "data": {
      "image/png": "[encoded data removed]",
      "text/plain": [
       "<IPython.core.display.Image object>"
      ]
     },
     "metadata": {},
     "output_type": "display_data"
    },
    {
     "name": "stdout",
     "output_type": "stream",
     "text": [
      "Predicted (and rendered) Latex\n"
     ]
    },
    {
     "data": {
      "text/latex": [
       "$$\\lambda \\left( \\overline { { \\psi } } P \\psi \\right) ^ { 2 } = \\lambda \\, ( \\varphi ^ { * } \\varphi ) ^ { 2 } \\, , $$"
      ],
      "text/plain": [
       "<IPython.core.display.Math object>"
      ]
     },
     "metadata": {},
     "output_type": "display_data"
    },
    {
     "name": "stdout",
     "output_type": "stream",
     "text": [
      "\n",
      "\n",
      "\n",
      "Original Image: 12\n"
     ]
    },
    {
     "data": {
      "image/png": "[encoded data removed]",
      "text/plain": [
       "<IPython.core.display.Image object>"
      ]
     },
     "metadata": {},
     "output_type": "display_data"
    },
    {
     "name": "stdout",
     "output_type": "stream",
     "text": [
      "Predicted (and rendered) Latex\n"
     ]
    },
    {
     "data": {
      "text/latex": [
       "$$A _ { \\mu } \\; = \\; \\partial _ { \\mu } \\varphi + \\epsilon _ { \\mu \\nu } \\, \\partial _ { \\nu } \\sigma \\; . $$"
      ],
      "text/plain": [
       "<IPython.core.display.Math object>"
      ]
     },
     "metadata": {},
     "output_type": "display_data"
    },
    {
     "name": "stdout",
     "output_type": "stream",
     "text": [
      "\n",
      "\n",
      "\n",
      "Original Image: 13\n"
     ]
    },
    {
     "data": {
      "image/png": "[encoded data removed]",
      "text/plain": [
       "<IPython.core.display.Image object>"
      ]
     },
     "metadata": {},
     "output_type": "display_data"
    },
    {
     "name": "stdout",
     "output_type": "stream",
     "text": [
      "Predicted (and rendered) Latex\n"
     ]
    },
    {
     "data": {
      "text/latex": [
       "$$\\langle { \\cal D } _ { a } \\rangle _ { 0 n } = \\delta _ { 0 n } { } ^ { \\parallel } \\nabla _ { a } + ( { \\cal A } _ { a } ) _ { 0 n } $$"
      ],
      "text/plain": [
       "<IPython.core.display.Math object>"
      ]
     },
     "metadata": {},
     "output_type": "display_data"
    },
    {
     "name": "stdout",
     "output_type": "stream",
     "text": [
      "\n",
      "\n",
      "\n",
      "Original Image: 14\n"
     ]
    },
    {
     "data": {
      "image/png": "[encoded data removed]",
      "text/plain": [
       "<IPython.core.display.Image object>"
      ]
     },
     "metadata": {},
     "output_type": "display_data"
    },
    {
     "name": "stdout",
     "output_type": "stream",
     "text": [
      "Predicted (and rendered) Latex\n"
     ]
    },
    {
     "data": {
      "text/latex": [
       "$$3 b _ { a } ^ { \\prime } \\operatorname { l n } H _ { a } + \\sum _ { \\alpha } b _ { a } ^ { \\alpha } \\operatorname { l n } \\Pi ^ { \\alpha } $$"
      ],
      "text/plain": [
       "<IPython.core.display.Math object>"
      ]
     },
     "metadata": {},
     "output_type": "display_data"
    },
    {
     "name": "stdout",
     "output_type": "stream",
     "text": [
      "\n",
      "\n",
      "\n",
      "Original Image: 15\n"
     ]
    },
    {
     "data": {
      "image/png": "[encoded data removed]",
      "text/plain": [
       "<IPython.core.display.Image object>"
      ]
     },
     "metadata": {},
     "output_type": "display_data"
    },
    {
     "name": "stdout",
     "output_type": "stream",
     "text": [
      "Predicted (and rendered) Latex\n"
     ]
    },
    {
     "data": {
      "text/latex": [
       "$$\\mu _ { R S A } = g _ { \\mu \\nu } n _ { R } ^ { \\mu } x _ { , A } ^ { \\rho } \\nabla _ { \\rho } n _ { S } ^ { \\nu } . $$"
      ],
      "text/plain": [
       "<IPython.core.display.Math object>"
      ]
     },
     "metadata": {},
     "output_type": "display_data"
    },
    {
     "name": "stdout",
     "output_type": "stream",
     "text": [
      "\n",
      "\n",
      "\n",
      "Original Image: 16\n"
     ]
    },
    {
     "data": {
      "image/png": "[encoded data removed]",
      "text/plain": [
       "<IPython.core.display.Image object>"
      ]
     },
     "metadata": {},
     "output_type": "display_data"
    },
    {
     "name": "stdout",
     "output_type": "stream",
     "text": [
      "Predicted (and rendered) Latex\n"
     ]
    },
    {
     "data": {
      "text/latex": [
       "$$\\omega = - i ( C _ { 1 } \\pm \\sqrt { C _ { 1 } ^ { 2 } - C _ { 2 } } ) ~ , $$"
      ],
      "text/plain": [
       "<IPython.core.display.Math object>"
      ]
     },
     "metadata": {},
     "output_type": "display_data"
    },
    {
     "name": "stdout",
     "output_type": "stream",
     "text": [
      "\n",
      "\n",
      "\n",
      "Original Image: 17\n"
     ]
    },
    {
     "data": {
      "image/png": "[encoded data removed]",
      "text/plain": [
       "<IPython.core.display.Image object>"
      ]
     },
     "metadata": {},
     "output_type": "display_data"
    },
    {
     "name": "stdout",
     "output_type": "stream",
     "text": [
      "Predicted (and rendered) Latex\n"
     ]
    },
    {
     "data": {
      "text/latex": [
       "$${ \\cal F } ( - \\hat { k } _ { 1 } , - \\hat { k } _ { 1 } ) = { \\cal F } ( \\hat { k } _ { 1 } , \\hat { k } _ { 1 } ) , $$"
      ],
      "text/plain": [
       "<IPython.core.display.Math object>"
      ]
     },
     "metadata": {},
     "output_type": "display_data"
    },
    {
     "name": "stdout",
     "output_type": "stream",
     "text": [
      "\n",
      "\n",
      "\n",
      "Original Image: 18\n"
     ]
    },
    {
     "data": {
      "image/png": "[encoded data removed]",
      "text/plain": [
       "<IPython.core.display.Image object>"
      ]
     },
     "metadata": {},
     "output_type": "display_data"
    },
    {
     "name": "stdout",
     "output_type": "stream",
     "text": [
      "Predicted (and rendered) Latex\n"
     ]
    },
    {
     "data": {
      "text/latex": [
       "$$\\delta E _ { k } ^ { a b } ( l _ { k } ) = \\epsilon ^ { b a c } ( - \\rho _ { k } ^ { c } + \\rho _ { 0 } ^ { c } - $$"
      ],
      "text/plain": [
       "<IPython.core.display.Math object>"
      ]
     },
     "metadata": {},
     "output_type": "display_data"
    },
    {
     "name": "stdout",
     "output_type": "stream",
     "text": [
      "\n",
      "\n",
      "\n",
      "Original Image: 19\n"
     ]
    },
    {
     "data": {
      "image/png": "[encoded data removed]",
      "text/plain": [
       "<IPython.core.display.Image object>"
      ]
     },
     "metadata": {},
     "output_type": "display_data"
    },
    {
     "name": "stdout",
     "output_type": "stream",
     "text": [
      "Predicted (and rendered) Latex\n"
     ]
    },
    {
     "data": {
      "text/latex": [
       "$$\\widetilde { \\cal F } _ { i } \\widetilde { \\cal F } _ { k } ^ { - 1 } \\widetilde { \\cal F } _ { j } = \\widetilde { \\cal F } _ { j } \\widetilde { \\cal F } _ { k } ^ { - 1 } \\widetilde { \\cal F } _ { i } . $$"
      ],
      "text/plain": [
       "<IPython.core.display.Math object>"
      ]
     },
     "metadata": {},
     "output_type": "display_data"
    },
    {
     "name": "stdout",
     "output_type": "stream",
     "text": [
      "\n",
      "\n",
      "\n",
      "Original Image: 20\n"
     ]
    },
    {
     "data": {
      "image/png": "[encoded data removed]",
      "text/plain": [
       "<IPython.core.display.Image object>"
      ]
     },
     "metadata": {},
     "output_type": "display_data"
    },
    {
     "name": "stdout",
     "output_type": "stream",
     "text": [
      "Predicted (and rendered) Latex\n"
     ]
    },
    {
     "data": {
      "text/latex": [
       "$$T ( g ) = e ^ { i \\alpha L _ { 3 } } e ^ { i \\beta L _ { 2 } } e ^ { i \\gamma L _ { 3 } } . $$"
      ],
      "text/plain": [
       "<IPython.core.display.Math object>"
      ]
     },
     "metadata": {},
     "output_type": "display_data"
    },
    {
     "name": "stdout",
     "output_type": "stream",
     "text": [
      "\n",
      "\n",
      "\n",
      "Original Image: 21\n"
     ]
    },
    {
     "data": {
      "image/png": "[encoded data removed]",
      "text/plain": [
       "<IPython.core.display.Image object>"
      ]
     },
     "metadata": {},
     "output_type": "display_data"
    },
    {
     "name": "stdout",
     "output_type": "stream",
     "text": [
      "Predicted (and rendered) Latex\n"
     ]
    },
    {
     "data": {
      "text/latex": [
       "$$\\langle p h y s ^ { \\prime } | G ( x ) | p h y s \\rangle = 0 . $$"
      ],
      "text/plain": [
       "<IPython.core.display.Math object>"
      ]
     },
     "metadata": {},
     "output_type": "display_data"
    },
    {
     "name": "stdout",
     "output_type": "stream",
     "text": [
      "\n",
      "\n",
      "\n",
      "Original Image: 22\n"
     ]
    },
    {
     "data": {
      "image/png": "[encoded data removed]",
      "text/plain": [
       "<IPython.core.display.Image object>"
      ]
     },
     "metadata": {},
     "output_type": "display_data"
    },
    {
     "name": "stdout",
     "output_type": "stream",
     "text": [
      "Predicted (and rendered) Latex\n"
     ]
    },
    {
     "data": {
      "text/latex": [
       "$$\\omega _ { \\mu } ^ { ~ ~ a } = ( \\Gamma _ { \\mu \\nu } ^ { \\lambda } e _ { \\lambda } { } ^ { a } - \\partial _ { \\mu } e _ { \\nu } ^ { ~ a } ) e ^ { \\nu } { } _ { b } $$"
      ],
      "text/plain": [
       "<IPython.core.display.Math object>"
      ]
     },
     "metadata": {},
     "output_type": "display_data"
    },
    {
     "name": "stdout",
     "output_type": "stream",
     "text": [
      "\n",
      "\n",
      "\n",
      "Original Image: 23\n"
     ]
    },
    {
     "data": {
      "image/png": "[encoded data removed]",
      "text/plain": [
       "<IPython.core.display.Image object>"
      ]
     },
     "metadata": {},
     "output_type": "display_data"
    },
    {
     "name": "stdout",
     "output_type": "stream",
     "text": [
      "Predicted (and rendered) Latex\n"
     ]
    },
    {
     "data": {
      "text/latex": [
       "$$\\ddot { A } \\left( t \\right) = \\ C _ { 1 } ( t ; \\Xi _ { t , 0 } ) + \\xi \\left( t \\right) $$"
      ],
      "text/plain": [
       "<IPython.core.display.Math object>"
      ]
     },
     "metadata": {},
     "output_type": "display_data"
    },
    {
     "name": "stdout",
     "output_type": "stream",
     "text": [
      "\n",
      "\n",
      "\n",
      "Original Image: 24\n"
     ]
    },
    {
     "data": {
      "image/png": "[encoded data removed]",
      "text/plain": [
       "<IPython.core.display.Image object>"
      ]
     },
     "metadata": {},
     "output_type": "display_data"
    },
    {
     "name": "stdout",
     "output_type": "stream",
     "text": [
      "Predicted (and rendered) Latex\n"
     ]
    },
    {
     "data": {
      "text/latex": [
       "$$\\nabla ^ { 4 } \\, \\varphi _ { 0 } = 0 \\, , \\, \\, \\, \\nabla ^ { 4 } \\, \\psi _ { 0 } = 0 \\, . $$"
      ],
      "text/plain": [
       "<IPython.core.display.Math object>"
      ]
     },
     "metadata": {},
     "output_type": "display_data"
    },
    {
     "name": "stdout",
     "output_type": "stream",
     "text": [
      "\n",
      "\n",
      "\n",
      "Original Image: 25\n"
     ]
    },
    {
     "data": {
      "image/png": "[encoded data removed]",
      "text/plain": [
       "<IPython.core.display.Image object>"
      ]
     },
     "metadata": {},
     "output_type": "display_data"
    },
    {
     "name": "stdout",
     "output_type": "stream",
     "text": [
      "Predicted (and rendered) Latex\n"
     ]
    },
    {
     "data": {
      "text/latex": [
       "$${ \\cal Q H } ( { \\cal C } ) = { \\iota } ^ { * } { \\cal Q } { \\cal H } ( { \\bf C P } ( { \\cal H } ) ) . $$"
      ],
      "text/plain": [
       "<IPython.core.display.Math object>"
      ]
     },
     "metadata": {},
     "output_type": "display_data"
    },
    {
     "name": "stdout",
     "output_type": "stream",
     "text": [
      "\n",
      "\n",
      "\n",
      "Original Image: 26\n"
     ]
    },
    {
     "data": {
      "image/png": "[encoded data removed]",
      "text/plain": [
       "<IPython.core.display.Image object>"
      ]
     },
     "metadata": {},
     "output_type": "display_data"
    },
    {
     "name": "stdout",
     "output_type": "stream",
     "text": [
      "Predicted (and rendered) Latex\n"
     ]
    },
    {
     "data": {
      "text/latex": [
       "$$b ^ { \\alpha \\beta \\rho \\sigma } \\, p _ { \\sigma } \\, \\hat { \\Pi } ( p ) _ { \\alpha \\beta \\mu \\nu } = 0 \\, , $$"
      ],
      "text/plain": [
       "<IPython.core.display.Math object>"
      ]
     },
     "metadata": {},
     "output_type": "display_data"
    },
    {
     "name": "stdout",
     "output_type": "stream",
     "text": [
      "\n",
      "\n",
      "\n",
      "Original Image: 27\n"
     ]
    },
    {
     "data": {
      "image/png": "[encoded data removed]",
      "text/plain": [
       "<IPython.core.display.Image object>"
      ]
     },
     "metadata": {},
     "output_type": "display_data"
    },
    {
     "name": "stdout",
     "output_type": "stream",
     "text": [
      "Predicted (and rendered) Latex\n"
     ]
    },
    {
     "data": {
      "text/latex": [
       "$$\\vec { \\nabla } \\cdot \\vec { E } - g \\vec { \\nabla } f \\cdot \\vec { E } = \\rho _ { ( \\vec { x } ) } \\ , $$"
      ],
      "text/plain": [
       "<IPython.core.display.Math object>"
      ]
     },
     "metadata": {},
     "output_type": "display_data"
    },
    {
     "name": "stdout",
     "output_type": "stream",
     "text": [
      "\n",
      "\n",
      "\n",
      "Original Image: 28\n"
     ]
    },
    {
     "data": {
      "image/png": "[encoded data removed]",
      "text/plain": [
       "<IPython.core.display.Image object>"
      ]
     },
     "metadata": {},
     "output_type": "display_data"
    },
    {
     "name": "stdout",
     "output_type": "stream",
     "text": [
      "Predicted (and rendered) Latex\n"
     ]
    },
    {
     "data": {
      "text/latex": [
       "$$P _ { - } = \\bar { P } = ( - i \\sqrt { P ^ { 2 } } , \\bar { 0 } ) . $$"
      ],
      "text/plain": [
       "<IPython.core.display.Math object>"
      ]
     },
     "metadata": {},
     "output_type": "display_data"
    },
    {
     "name": "stdout",
     "output_type": "stream",
     "text": [
      "\n",
      "\n",
      "\n",
      "Original Image: 29\n"
     ]
    },
    {
     "data": {
      "image/png": "[encoded data removed]",
      "text/plain": [
       "<IPython.core.display.Image object>"
      ]
     },
     "metadata": {},
     "output_type": "display_data"
    },
    {
     "name": "stdout",
     "output_type": "stream",
     "text": [
      "Predicted (and rendered) Latex\n"
     ]
    },
    {
     "data": {
      "text/latex": [
       "$$\\tau _ { k } ( { \\cal M } ) = \\phi _ { k } ( { \\cal M } ) \\, \\mathrm { m o c } \\, \\Gamma _ { k } , $$"
      ],
      "text/plain": [
       "<IPython.core.display.Math object>"
      ]
     },
     "metadata": {},
     "output_type": "display_data"
    },
    {
     "name": "stdout",
     "output_type": "stream",
     "text": [
      "\n",
      "\n",
      "\n",
      "Original Image: 30\n"
     ]
    },
    {
     "data": {
      "image/png": "[encoded data removed]",
      "text/plain": [
       "<IPython.core.display.Image object>"
      ]
     },
     "metadata": {},
     "output_type": "display_data"
    },
    {
     "name": "stdout",
     "output_type": "stream",
     "text": [
      "Predicted (and rendered) Latex\n"
     ]
    },
    {
     "data": {
      "text/latex": [
       "$$K ( \\Lambda _ { 1 } , \\Lambda _ { 2 } ; 0 ) = \\delta ( \\Lambda _ { 1 } - \\Lambda _ { 2 } ) . $$"
      ],
      "text/plain": [
       "<IPython.core.display.Math object>"
      ]
     },
     "metadata": {},
     "output_type": "display_data"
    },
    {
     "name": "stdout",
     "output_type": "stream",
     "text": [
      "\n",
      "\n",
      "\n",
      "Original Image: 31\n"
     ]
    },
    {
     "data": {
      "image/png": "[encoded data removed]",
      "text/plain": [
       "<IPython.core.display.Image object>"
      ]
     },
     "metadata": {},
     "output_type": "display_data"
    },
    {
     "name": "stdout",
     "output_type": "stream",
     "text": [
      "Predicted (and rendered) Latex\n"
     ]
    },
    {
     "data": {
      "text/latex": [
       "$${ \\cal F } ^ { \\mu _ { 1 } \\cdots \\mu _ { p + 1 } } ( k ) = { \\cal G } ^ { \\mu _ { 1 } \\cdots \\mu _ { p + 1 } } ( k ) , $$"
      ],
      "text/plain": [
       "<IPython.core.display.Math object>"
      ]
     },
     "metadata": {},
     "output_type": "display_data"
    },
    {
     "name": "stdout",
     "output_type": "stream",
     "text": [
      "\n",
      "\n",
      "\n",
      "Original Image: 32\n"
     ]
    },
    {
     "data": {
      "image/png": "[encoded data removed]",
      "text/plain": [
       "<IPython.core.display.Image object>"
      ]
     },
     "metadata": {},
     "output_type": "display_data"
    },
    {
     "name": "stdout",
     "output_type": "stream",
     "text": [
      "Predicted (and rendered) Latex\n"
     ]
    },
    {
     "data": {
      "text/latex": [
       "$${ \\cal H } = { \\cal H } _ { U ( 1 ) } \\otimes { \\cal H } _ { m a s s = 0 } \\; . $$"
      ],
      "text/plain": [
       "<IPython.core.display.Math object>"
      ]
     },
     "metadata": {},
     "output_type": "display_data"
    },
    {
     "name": "stdout",
     "output_type": "stream",
     "text": [
      "\n",
      "\n",
      "\n",
      "Original Image: 33\n"
     ]
    },
    {
     "data": {
      "image/png": "[encoded data removed]",
      "text/plain": [
       "<IPython.core.display.Image object>"
      ]
     },
     "metadata": {},
     "output_type": "display_data"
    },
    {
     "name": "stdout",
     "output_type": "stream",
     "text": [
      "Predicted (and rendered) Latex\n"
     ]
    },
    {
     "data": {
      "text/latex": [
       "$${ \\cal H } _ { 0 } = 4 \\, \\sqrt { d e t ( \\delta _ { \\mu \\nu } + { } ^ { * } H _ { \\mu \\nu } ) } , $$"
      ],
      "text/plain": [
       "<IPython.core.display.Math object>"
      ]
     },
     "metadata": {},
     "output_type": "display_data"
    },
    {
     "name": "stdout",
     "output_type": "stream",
     "text": [
      "\n",
      "\n",
      "\n",
      "Original Image: 34\n"
     ]
    },
    {
     "data": {
      "image/png": "[encoded data removed]",
      "text/plain": [
       "<IPython.core.display.Image object>"
      ]
     },
     "metadata": {},
     "output_type": "display_data"
    },
    {
     "name": "stdout",
     "output_type": "stream",
     "text": [
      "Predicted (and rendered) Latex\n"
     ]
    },
    {
     "data": {
      "text/latex": [
       "$$\\bar { \\Delta } _ { j } ^ { \\dot { \\beta } _ { j } } \\, \\Delta _ { \\lambda _ { i } \\dot { \\alpha } \\dot { \\alpha } } ~ = ~ \\delta _ { ~ \\dot { \\alpha } } ^ { \\dot { \\beta } } ( f ^ { - 1 } ) _ { \\dot { q } } . $$"
      ],
      "text/plain": [
       "<IPython.core.display.Math object>"
      ]
     },
     "metadata": {},
     "output_type": "display_data"
    },
    {
     "name": "stdout",
     "output_type": "stream",
     "text": [
      "\n",
      "\n",
      "\n",
      "Original Image: 35\n"
     ]
    },
    {
     "data": {
      "image/png": "[encoded data removed]",
      "text/plain": [
       "<IPython.core.display.Image object>"
      ]
     },
     "metadata": {},
     "output_type": "display_data"
    },
    {
     "name": "stdout",
     "output_type": "stream",
     "text": [
      "Predicted (and rendered) Latex\n"
     ]
    },
    {
     "data": {
      "text/latex": [
       "$$S ( \\tau , \\sigma ) = \\sqrt { - g _ { \\mu \\nu } X ^ { \\mu } } { \\cal X } ^ { \\nu } \\ . $$"
      ],
      "text/plain": [
       "<IPython.core.display.Math object>"
      ]
     },
     "metadata": {},
     "output_type": "display_data"
    },
    {
     "name": "stdout",
     "output_type": "stream",
     "text": [
      "\n",
      "\n",
      "\n",
      "Original Image: 36\n"
     ]
    },
    {
     "data": {
      "image/png": "[encoded data removed]",
      "text/plain": [
       "<IPython.core.display.Image object>"
      ]
     },
     "metadata": {},
     "output_type": "display_data"
    },
    {
     "name": "stdout",
     "output_type": "stream",
     "text": [
      "Predicted (and rendered) Latex\n"
     ]
    },
    {
     "data": {
      "text/latex": [
       "$$( S _ { 0 } \\gamma ^ { \\alpha \\mu } S _ { 0 } ) ( S _ { 0 } \\gamma ^ { \\beta \\nu } S _ { 0 } ) \\epsilon _ { \\alpha \\beta } k _ { \\mu } k _ { \\nu } $$"
      ],
      "text/plain": [
       "<IPython.core.display.Math object>"
      ]
     },
     "metadata": {},
     "output_type": "display_data"
    },
    {
     "name": "stdout",
     "output_type": "stream",
     "text": [
      "\n",
      "\n",
      "\n",
      "Original Image: 37\n"
     ]
    },
    {
     "data": {
      "image/png": "[encoded data removed]",
      "text/plain": [
       "<IPython.core.display.Image object>"
      ]
     },
     "metadata": {},
     "output_type": "display_data"
    },
    {
     "name": "stdout",
     "output_type": "stream",
     "text": [
      "Predicted (and rendered) Latex\n"
     ]
    },
    {
     "data": {
      "text/latex": [
       "$$( u , v , w ) \\rightarrow ( u ^ { - 1 } , v ^ { - 1 } , w ^ { - 1 } ) , $$"
      ],
      "text/plain": [
       "<IPython.core.display.Math object>"
      ]
     },
     "metadata": {},
     "output_type": "display_data"
    },
    {
     "name": "stdout",
     "output_type": "stream",
     "text": [
      "\n",
      "\n",
      "\n",
      "Original Image: 38\n"
     ]
    },
    {
     "data": {
      "image/png": "[encoded data removed]",
      "text/plain": [
       "<IPython.core.display.Image object>"
      ]
     },
     "metadata": {},
     "output_type": "display_data"
    },
    {
     "name": "stdout",
     "output_type": "stream",
     "text": [
      "Predicted (and rendered) Latex\n"
     ]
    },
    {
     "data": {
      "text/latex": [
       "$$t ^ { i } { } _ { j } ( = t ^ { i k } \\varepsilon _ { k j } ) \\equiv i \\vec { t } \\cdot \\vec { \\sigma } ^ { i } { } _ { j } . $$"
      ],
      "text/plain": [
       "<IPython.core.display.Math object>"
      ]
     },
     "metadata": {},
     "output_type": "display_data"
    },
    {
     "name": "stdout",
     "output_type": "stream",
     "text": [
      "\n",
      "\n",
      "\n",
      "Original Image: 39\n"
     ]
    },
    {
     "data": {
      "image/png": "[encoded data removed]",
      "text/plain": [
       "<IPython.core.display.Image object>"
      ]
     },
     "metadata": {},
     "output_type": "display_data"
    },
    {
     "name": "stdout",
     "output_type": "stream",
     "text": [
      "Predicted (and rendered) Latex\n"
     ]
    },
    {
     "data": {
      "text/latex": [
       "$$\\delta \\hat { G } _ { a b } + \\kappa \\, \\delta ^ { ( 1 ) } \\hat { H } _ { a b } = \\frac { \\kappa } { 2 } T _ { a b } ^ { ( m ) } \\, , $$"
      ],
      "text/plain": [
       "<IPython.core.display.Math object>"
      ]
     },
     "metadata": {},
     "output_type": "display_data"
    },
    {
     "name": "stdout",
     "output_type": "stream",
     "text": [
      "\n",
      "\n",
      "\n",
      "Original Image: 40\n"
     ]
    },
    {
     "data": {
      "image/png": "[encoded data removed]",
      "text/plain": [
       "<IPython.core.display.Image object>"
      ]
     },
     "metadata": {},
     "output_type": "display_data"
    },
    {
     "name": "stdout",
     "output_type": "stream",
     "text": [
      "Predicted (and rendered) Latex\n"
     ]
    },
    {
     "data": {
      "text/latex": [
       "$$v = ( 4 ( \\theta _ { 1 1 } + \\theta _ { 2 2 } ) + \\gamma ^ { 2 } ) P _ { 0 } $$"
      ],
      "text/plain": [
       "<IPython.core.display.Math object>"
      ]
     },
     "metadata": {},
     "output_type": "display_data"
    },
    {
     "name": "stdout",
     "output_type": "stream",
     "text": [
      "\n",
      "\n",
      "\n",
      "Original Image: 41\n"
     ]
    },
    {
     "data": {
      "image/png": "[encoded data removed]",
      "text/plain": [
       "<IPython.core.display.Image object>"
      ]
     },
     "metadata": {},
     "output_type": "display_data"
    },
    {
     "name": "stdout",
     "output_type": "stream",
     "text": [
      "Predicted (and rendered) Latex\n"
     ]
    },
    {
     "data": {
      "text/latex": [
       "$$C _ { 2 } \\left( S O \\left( d , 2 \\right) \\right) = 1 - d ^ { 2 } / 4 . $$"
      ],
      "text/plain": [
       "<IPython.core.display.Math object>"
      ]
     },
     "metadata": {},
     "output_type": "display_data"
    },
    {
     "name": "stdout",
     "output_type": "stream",
     "text": [
      "\n",
      "\n",
      "\n",
      "Original Image: 42\n"
     ]
    },
    {
     "data": {
      "image/png": "[encoded data removed]",
      "text/plain": [
       "<IPython.core.display.Image object>"
      ]
     },
     "metadata": {},
     "output_type": "display_data"
    },
    {
     "name": "stdout",
     "output_type": "stream",
     "text": [
      "Predicted (and rendered) Latex\n"
     ]
    },
    {
     "data": {
      "text/latex": [
       "$$\\psi _ { i j } ( x ) = 2 ^ { - \\frac { D } { 2 } } [ \\Psi ( x ) \\vee Z _ { j i } ] _ { 0 } , $$"
      ],
      "text/plain": [
       "<IPython.core.display.Math object>"
      ]
     },
     "metadata": {},
     "output_type": "display_data"
    },
    {
     "name": "stdout",
     "output_type": "stream",
     "text": [
      "\n",
      "\n",
      "\n",
      "Original Image: 43\n"
     ]
    },
    {
     "data": {
      "image/png": "[encoded data removed]",
      "text/plain": [
       "<IPython.core.display.Image object>"
      ]
     },
     "metadata": {},
     "output_type": "display_data"
    },
    {
     "name": "stdout",
     "output_type": "stream",
     "text": [
      "Predicted (and rendered) Latex\n"
     ]
    },
    {
     "data": {
      "text/latex": [
       "$$e ^ { \\frac { i } { 3 } \\Gamma } = \\langle e ^ { i \\int d ^ { 2 } x \\; h _ { + + } T _ { - } } \\rangle _ { m a t t } . $$"
      ],
      "text/plain": [
       "<IPython.core.display.Math object>"
      ]
     },
     "metadata": {},
     "output_type": "display_data"
    },
    {
     "name": "stdout",
     "output_type": "stream",
     "text": [
      "\n",
      "\n",
      "\n",
      "Original Image: 44\n"
     ]
    },
    {
     "data": {
      "image/png": "[encoded data removed]",
      "text/plain": [
       "<IPython.core.display.Image object>"
      ]
     },
     "metadata": {},
     "output_type": "display_data"
    },
    {
     "name": "stdout",
     "output_type": "stream",
     "text": [
      "Predicted (and rendered) Latex\n"
     ]
    },
    {
     "data": {
      "text/latex": [
       "$$Z ( \\beta , \\mu ) = \\mathrm { T r } ~ e ^ { - \\beta ( \\tilde { H } - \\mu \\hat { Q } ) } . $$"
      ],
      "text/plain": [
       "<IPython.core.display.Math object>"
      ]
     },
     "metadata": {},
     "output_type": "display_data"
    },
    {
     "name": "stdout",
     "output_type": "stream",
     "text": [
      "\n",
      "\n",
      "\n",
      "Original Image: 45\n"
     ]
    },
    {
     "data": {
      "image/png": "[encoded data removed]",
      "text/plain": [
       "<IPython.core.display.Image object>"
      ]
     },
     "metadata": {},
     "output_type": "display_data"
    },
    {
     "name": "stdout",
     "output_type": "stream",
     "text": [
      "Predicted (and rendered) Latex\n"
     ]
    },
    {
     "data": {
      "text/latex": [
       "$$\\omega = - i ( C _ { 1 } \\pm \\sqrt { C _ { 1 } ^ { 2 } - C _ { 2 } } ) ~ , $$"
      ],
      "text/plain": [
       "<IPython.core.display.Math object>"
      ]
     },
     "metadata": {},
     "output_type": "display_data"
    },
    {
     "name": "stdout",
     "output_type": "stream",
     "text": [
      "\n",
      "\n",
      "\n",
      "Original Image: 46\n"
     ]
    },
    {
     "data": {
      "image/png": "[encoded data removed]",
      "text/plain": [
       "<IPython.core.display.Image object>"
      ]
     },
     "metadata": {},
     "output_type": "display_data"
    },
    {
     "name": "stdout",
     "output_type": "stream",
     "text": [
      "Predicted (and rendered) Latex\n"
     ]
    },
    {
     "data": {
      "text/latex": [
       "$$\\eta ^ { p _ { 0 } } = 0 \\quad ; \\quad \\eta ^ { p } \\neq 0 \\; , p < p _ { 0 } $$"
      ],
      "text/plain": [
       "<IPython.core.display.Math object>"
      ]
     },
     "metadata": {},
     "output_type": "display_data"
    },
    {
     "name": "stdout",
     "output_type": "stream",
     "text": [
      "\n",
      "\n",
      "\n",
      "Original Image: 47\n"
     ]
    },
    {
     "data": {
      "image/png": "[encoded data removed]",
      "text/plain": [
       "<IPython.core.display.Image object>"
      ]
     },
     "metadata": {},
     "output_type": "display_data"
    },
    {
     "name": "stdout",
     "output_type": "stream",
     "text": [
      "Predicted (and rendered) Latex\n"
     ]
    },
    {
     "data": {
      "text/latex": [
       "$$( D ^ { 2 } ) ^ { 2 } q ^ { 1 } = ( \\bar { D } _ { 1 } ) ^ { 2 } q ^ { 1 } = 0 $$"
      ],
      "text/plain": [
       "<IPython.core.display.Math object>"
      ]
     },
     "metadata": {},
     "output_type": "display_data"
    },
    {
     "name": "stdout",
     "output_type": "stream",
     "text": [
      "\n",
      "\n",
      "\n",
      "Original Image: 48\n"
     ]
    },
    {
     "data": {
      "image/png": "[encoded data removed]",
      "text/plain": [
       "<IPython.core.display.Image object>"
      ]
     },
     "metadata": {},
     "output_type": "display_data"
    },
    {
     "name": "stdout",
     "output_type": "stream",
     "text": [
      "Predicted (and rendered) Latex\n"
     ]
    },
    {
     "data": {
      "text/latex": [
       "$$\\Psi _ { B _ { s } } ( \\phi _ { 0 } ) = \\operatorname { e x p } ( - 2 \\pi \\mu _ { B } e ^ { b \\phi _ { 0 } } ) $$"
      ],
      "text/plain": [
       "<IPython.core.display.Math object>"
      ]
     },
     "metadata": {},
     "output_type": "display_data"
    },
    {
     "name": "stdout",
     "output_type": "stream",
     "text": [
      "\n",
      "\n",
      "\n",
      "Original Image: 49\n"
     ]
    },
    {
     "data": {
      "image/png": "[encoded data removed]",
      "text/plain": [
       "<IPython.core.display.Image object>"
      ]
     },
     "metadata": {},
     "output_type": "display_data"
    },
    {
     "name": "stdout",
     "output_type": "stream",
     "text": [
      "Predicted (and rendered) Latex\n"
     ]
    },
    {
     "data": {
      "text/latex": [
       "$$\\delta \\Phi ^ { a b } = - i \\, \\partial _ { \\lambda } \\left( \\bar { \\epsilon } \\, \\gamma ^ { \\lambda } \\, E ^ { a b } \\right) \\ , $$"
      ],
      "text/plain": [
       "<IPython.core.display.Math object>"
      ]
     },
     "metadata": {},
     "output_type": "display_data"
    },
    {
     "name": "stdout",
     "output_type": "stream",
     "text": [
      "\n",
      "\n",
      "\n",
      "Original Image: 50\n"
     ]
    },
    {
     "data": {
      "image/png": "[encoded data removed]",
      "text/plain": [
       "<IPython.core.display.Image object>"
      ]
     },
     "metadata": {},
     "output_type": "display_data"
    },
    {
     "name": "stdout",
     "output_type": "stream",
     "text": [
      "Predicted (and rendered) Latex\n"
     ]
    },
    {
     "data": {
      "text/latex": [
       "$$( y ^ { a _ { 2 k } } , \\pi _ { a _ { 2 k } } ) \\, , \\; k = 1 , \\cdots , b , $$"
      ],
      "text/plain": [
       "<IPython.core.display.Math object>"
      ]
     },
     "metadata": {},
     "output_type": "display_data"
    },
    {
     "name": "stdout",
     "output_type": "stream",
     "text": [
      "\n",
      "\n",
      "\n",
      "Original Image: 51\n"
     ]
    },
    {
     "data": {
      "image/png": "[encoded data removed]",
      "text/plain": [
       "<IPython.core.display.Image object>"
      ]
     },
     "metadata": {},
     "output_type": "display_data"
    },
    {
     "name": "stdout",
     "output_type": "stream",
     "text": [
      "Predicted (and rendered) Latex\n"
     ]
    },
    {
     "data": {
      "text/latex": [
       "$$3 b _ { a } ^ { \\prime } \\operatorname { l n } H _ { a } + \\sum _ { \\alpha } b _ { a } ^ { \\alpha } \\operatorname { l n } \\Pi ^ { \\alpha } $$"
      ],
      "text/plain": [
       "<IPython.core.display.Math object>"
      ]
     },
     "metadata": {},
     "output_type": "display_data"
    },
    {
     "name": "stdout",
     "output_type": "stream",
     "text": [
      "\n",
      "\n",
      "\n",
      "Original Image: 52\n"
     ]
    },
    {
     "data": {
      "image/png": "[encoded data removed]",
      "text/plain": [
       "<IPython.core.display.Image object>"
      ]
     },
     "metadata": {},
     "output_type": "display_data"
    },
    {
     "name": "stdout",
     "output_type": "stream",
     "text": [
      "Predicted (and rendered) Latex\n"
     ]
    },
    {
     "data": {
      "text/latex": [
       "$$\\dot { \\tilde { x } } _ { \\mu } = ( e - v s m ^ { - 1 } ) \\cdot p _ { \\mu } , $$"
      ],
      "text/plain": [
       "<IPython.core.display.Math object>"
      ]
     },
     "metadata": {},
     "output_type": "display_data"
    },
    {
     "name": "stdout",
     "output_type": "stream",
     "text": [
      "\n",
      "\n",
      "\n",
      "Original Image: 53\n"
     ]
    },
    {
     "data": {
      "image/png": "[encoded data removed]",
      "text/plain": [
       "<IPython.core.display.Image object>"
      ]
     },
     "metadata": {},
     "output_type": "display_data"
    },
    {
     "name": "stdout",
     "output_type": "stream",
     "text": [
      "Predicted (and rendered) Latex\n"
     ]
    },
    {
     "data": {
      "text/latex": [
       "$$\\partial _ { \\mu } \\left( \\gamma ^ { 5 } - \\alpha \\right) \\Psi ( x ) = 0 \\; . $$"
      ],
      "text/plain": [
       "<IPython.core.display.Math object>"
      ]
     },
     "metadata": {},
     "output_type": "display_data"
    },
    {
     "name": "stdout",
     "output_type": "stream",
     "text": [
      "\n",
      "\n",
      "\n",
      "Original Image: 54\n"
     ]
    },
    {
     "data": {
      "image/png": "[encoded data removed]",
      "text/plain": [
       "<IPython.core.display.Image object>"
      ]
     },
     "metadata": {},
     "output_type": "display_data"
    },
    {
     "name": "stdout",
     "output_type": "stream",
     "text": [
      "Predicted (and rendered) Latex\n"
     ]
    },
    {
     "data": {
      "text/latex": [
       "$$\\alpha \\cdot \\beta = 0 , \\quad \\alpha ^ { 2 } = - \\beta ^ { 2 } = 1 , $$"
      ],
      "text/plain": [
       "<IPython.core.display.Math object>"
      ]
     },
     "metadata": {},
     "output_type": "display_data"
    },
    {
     "name": "stdout",
     "output_type": "stream",
     "text": [
      "\n",
      "\n",
      "\n",
      "Original Image: 55\n"
     ]
    },
    {
     "data": {
      "image/png": "[encoded data removed]",
      "text/plain": [
       "<IPython.core.display.Image object>"
      ]
     },
     "metadata": {},
     "output_type": "display_data"
    },
    {
     "name": "stdout",
     "output_type": "stream",
     "text": [
      "Predicted (and rendered) Latex\n"
     ]
    },
    {
     "data": {
      "text/latex": [
       "$$Z _ { F } [ C ] = Z _ { B } [ C ] = Z _ { F F } [ C ] \\; . $$"
      ],
      "text/plain": [
       "<IPython.core.display.Math object>"
      ]
     },
     "metadata": {},
     "output_type": "display_data"
    },
    {
     "name": "stdout",
     "output_type": "stream",
     "text": [
      "\n",
      "\n",
      "\n",
      "Original Image: 56\n"
     ]
    },
    {
     "data": {
      "image/png": "[encoded data removed]",
      "text/plain": [
       "<IPython.core.display.Image object>"
      ]
     },
     "metadata": {},
     "output_type": "display_data"
    },
    {
     "name": "stdout",
     "output_type": "stream",
     "text": [
      "Predicted (and rendered) Latex\n"
     ]
    },
    {
     "data": {
      "text/latex": [
       "$${ \\bf 5 6 } \\rightarrow ( { \\bf 2 } , { \\bf 1 2 } ) + ( { \\bf 1 , 7 2 } ) $$"
      ],
      "text/plain": [
       "<IPython.core.display.Math object>"
      ]
     },
     "metadata": {},
     "output_type": "display_data"
    },
    {
     "name": "stdout",
     "output_type": "stream",
     "text": [
      "\n",
      "\n",
      "\n",
      "Original Image: 57\n"
     ]
    },
    {
     "data": {
      "image/png": "[encoded data removed]",
      "text/plain": [
       "<IPython.core.display.Image object>"
      ]
     },
     "metadata": {},
     "output_type": "display_data"
    },
    {
     "name": "stdout",
     "output_type": "stream",
     "text": [
      "Predicted (and rendered) Latex\n"
     ]
    },
    {
     "data": {
      "text/latex": [
       "$$H _ { ( n ) } = \\mathrm { S U } ( { \\cal N } ) \\times H _ { ( n ) } ^ { \\prime } \\ . $$"
      ],
      "text/plain": [
       "<IPython.core.display.Math object>"
      ]
     },
     "metadata": {},
     "output_type": "display_data"
    },
    {
     "name": "stdout",
     "output_type": "stream",
     "text": [
      "\n",
      "\n",
      "\n",
      "Original Image: 58\n"
     ]
    },
    {
     "data": {
      "image/png": "[encoded data removed]",
      "text/plain": [
       "<IPython.core.display.Image object>"
      ]
     },
     "metadata": {},
     "output_type": "display_data"
    },
    {
     "name": "stdout",
     "output_type": "stream",
     "text": [
      "Predicted (and rendered) Latex\n"
     ]
    },
    {
     "data": {
      "text/latex": [
       "$$P _ { 4 } \\propto \\int _ { S ^ { 1 } \\times R ^ { 3 } } t r \\, { \\cal F } _ { 0 \\mu } { \\cal F } _ { \\mu 4 } , $$"
      ],
      "text/plain": [
       "<IPython.core.display.Math object>"
      ]
     },
     "metadata": {},
     "output_type": "display_data"
    },
    {
     "name": "stdout",
     "output_type": "stream",
     "text": [
      "\n",
      "\n",
      "\n",
      "Original Image: 59\n"
     ]
    },
    {
     "data": {
      "image/png": "[encoded data removed]",
      "text/plain": [
       "<IPython.core.display.Image object>"
      ]
     },
     "metadata": {},
     "output_type": "display_data"
    },
    {
     "name": "stdout",
     "output_type": "stream",
     "text": [
      "Predicted (and rendered) Latex\n"
     ]
    },
    {
     "data": {
      "text/latex": [
       "$$P \\rightarrow \\rho P ^ { - 1 } , \\qquad Q \\rightarrow i \\Omega , $$"
      ],
      "text/plain": [
       "<IPython.core.display.Math object>"
      ]
     },
     "metadata": {},
     "output_type": "display_data"
    },
    {
     "name": "stdout",
     "output_type": "stream",
     "text": [
      "\n",
      "\n",
      "\n",
      "Original Image: 60\n"
     ]
    },
    {
     "data": {
      "image/png": "[encoded data removed]",
      "text/plain": [
       "<IPython.core.display.Image object>"
      ]
     },
     "metadata": {},
     "output_type": "display_data"
    },
    {
     "name": "stdout",
     "output_type": "stream",
     "text": [
      "Predicted (and rendered) Latex\n"
     ]
    },
    {
     "data": {
      "text/latex": [
       "$$S _ { n m } = S + \\chi _ { \\mathrm { b a p } } ^ { * } \\lambda _ { 0 } ^ { \\alpha \\beta } + b ^ { * } \\lambda ~ , $$"
      ],
      "text/plain": [
       "<IPython.core.display.Math object>"
      ]
     },
     "metadata": {},
     "output_type": "display_data"
    },
    {
     "name": "stdout",
     "output_type": "stream",
     "text": [
      "\n",
      "\n",
      "\n",
      "Original Image: 61\n"
     ]
    },
    {
     "data": {
      "image/png": "[encoded data removed]",
      "text/plain": [
       "<IPython.core.display.Image object>"
      ]
     },
     "metadata": {},
     "output_type": "display_data"
    },
    {
     "name": "stdout",
     "output_type": "stream",
     "text": [
      "Predicted (and rendered) Latex\n"
     ]
    },
    {
     "data": {
      "text/latex": [
       "$$\\tilde { \\beta } ( y _ { h } ) = 0 , \\, \\, \\, \\, \\tilde { \\beta } ^ { \\prime } ( y _ { h } ) \\neq 0 $$"
      ],
      "text/plain": [
       "<IPython.core.display.Math object>"
      ]
     },
     "metadata": {},
     "output_type": "display_data"
    },
    {
     "name": "stdout",
     "output_type": "stream",
     "text": [
      "\n",
      "\n",
      "\n",
      "Original Image: 62\n"
     ]
    },
    {
     "data": {
      "image/png": "[encoded data removed]",
      "text/plain": [
       "<IPython.core.display.Image object>"
      ]
     },
     "metadata": {},
     "output_type": "display_data"
    },
    {
     "name": "stdout",
     "output_type": "stream",
     "text": [
      "Predicted (and rendered) Latex\n"
     ]
    },
    {
     "data": {
      "text/latex": [
       "$$Z _ { N } \\left( \\Phi \\right) = e ^ { \\frac { i 2 \\pi p } { N } } \\Phi , \\, \\, \\Phi \\in A _ { p } . $$"
      ],
      "text/plain": [
       "<IPython.core.display.Math object>"
      ]
     },
     "metadata": {},
     "output_type": "display_data"
    },
    {
     "name": "stdout",
     "output_type": "stream",
     "text": [
      "\n",
      "\n",
      "\n",
      "Original Image: 63\n"
     ]
    },
    {
     "data": {
      "image/png": "[encoded data removed]",
      "text/plain": [
       "<IPython.core.display.Image object>"
      ]
     },
     "metadata": {},
     "output_type": "display_data"
    },
    {
     "name": "stdout",
     "output_type": "stream",
     "text": [
      "Predicted (and rendered) Latex\n"
     ]
    },
    {
     "data": {
      "text/latex": [
       "$$\\hat { P } _ { r } ^ { 2 } \\Psi = \\hbar ^ { 2 } k ^ { 2 } \\Psi , \\; \\; \\hat { P } _ { r } ^ { 2 } = \\hat { P } $$"
      ],
      "text/plain": [
       "<IPython.core.display.Math object>"
      ]
     },
     "metadata": {},
     "output_type": "display_data"
    },
    {
     "name": "stdout",
     "output_type": "stream",
     "text": [
      "\n",
      "\n",
      "\n",
      "Original Image: 64\n"
     ]
    },
    {
     "data": {
      "image/png": "[encoded data removed]",
      "text/plain": [
       "<IPython.core.display.Image object>"
      ]
     },
     "metadata": {},
     "output_type": "display_data"
    },
    {
     "name": "stdout",
     "output_type": "stream",
     "text": [
      "Predicted (and rendered) Latex\n"
     ]
    },
    {
     "data": {
      "text/latex": [
       "$$\\omega _ { n } = ( 2 \\sqrt { \\pi } ) m \\ c o s ( \\frac { n \\pi } { 8 } ) . $$"
      ],
      "text/plain": [
       "<IPython.core.display.Math object>"
      ]
     },
     "metadata": {},
     "output_type": "display_data"
    },
    {
     "name": "stdout",
     "output_type": "stream",
     "text": [
      "\n",
      "\n",
      "\n"
     ]
    }
   ],
   "source": [
    "batch_size=64\n",
    "from PIL import Image as Img\n",
    "for i in xrange(batch_size):\n",
    "    preds_chars = idx_to_chars(preds[i,1:]).replace('$','')\n",
    "    print \"Original Image: %d\"%(i+1)\n",
    "    showarray(imgs[i][0])\n",
    "    print \"Predicted (and rendered) Latex\"\n",
    "    displayPreds(preds_chars)\n",
    "    print \"\\n\\n\""
   ]
  }
 ],
 "metadata": {
  "kernelspec": {
   "display_name": "Python 2",
   "language": "python",
   "name": "python2"
  },
  "language_info": {
   "codemirror_mode": {
    "name": "ipython",
    "version": 2
   },
   "file_extension": ".py",
   "mimetype": "text/x-python",
   "name": "python",
   "nbconvert_exporter": "python",
   "pygments_lexer": "ipython2",
   "version": "2.7.12"
  }
 },
 "nbformat": 4,
 "nbformat_minor": 1
}
