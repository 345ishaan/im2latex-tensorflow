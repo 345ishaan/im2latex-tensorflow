{
 "cells": [
  {
   "cell_type": "code",
   "execution_count": 1,
   "metadata": {
    "collapsed": true
   },
   "outputs": [],
   "source": [
    "import numpy as np\n",
    "import re\n",
    "from IPython.display import display, Math, Latex, Image"
   ]
  },
  {
   "cell_type": "code",
   "execution_count": 10,
   "metadata": {
    "collapsed": true
   },
   "outputs": [],
   "source": [
    "import numpy as np\n",
    "imgs = np.load('pred_imgs.npy')\n",
    "preds = np.load('pred_latex.npy')\n",
    "properties = np.load('properties.npy').tolist()\n",
    "displayPreds = lambda Y: display(Math(Y.split('#END')[0]))\n",
    "idx_to_chars = lambda Y: ' '.join(map(lambda x: properties['idx_to_char'][x],Y))\n",
    "#displayIdxs = lambda Y: display(Math(''.join(map(lambda x: properties['idx_to_char'][x],Y))))"
   ]
  },
  {
   "cell_type": "code",
   "execution_count": 11,
   "metadata": {
    "collapsed": true
   },
   "outputs": [],
   "source": [
    "import PIL.Image\n",
    "from cStringIO import StringIO\n",
    "import IPython.display\n",
    "import numpy as np\n",
    "def showarray(a, fmt='png'):\n",
    "    a = np.uint8(a)\n",
    "    f = StringIO()\n",
    "    PIL.Image.fromarray(a).save(f, fmt)\n",
    "    IPython.display.display(IPython.display.Image(data=f.getvalue()))"
   ]
  },
  {
   "cell_type": "code",
   "execution_count": 12,
   "metadata": {
    "collapsed": false
   },
   "outputs": [
    {
     "name": "stdout",
     "output_type": "stream",
     "text": [
      "Original (Input) Image: 1\n"
     ]
    },
    {
     "data": {
      "image/png": "[encoded data removed]",
      "text/plain": [
       "<IPython.core.display.Image object>"
      ]
     },
     "metadata": {},
     "output_type": "display_data"
    },
    {
     "name": "stdout",
     "output_type": "stream",
     "text": [
      "Predicted Latex\n",
      "T _ { \\mu \\nu } ^ { c o n } = ( \\partial _ { \\nu } A _ { \\alpha } ) \\, \\frac { \\partial { \\cal { L } } } { \\partial \\left( \\partial _ { \\mu } A _ { \\alpha } ) } - \\delta _ { \\mu \\nu } { \\cal L } , \n",
      "\n",
      "Rendering the predicted latex\n"
     ]
    },
    {
     "data": {
      "text/latex": [
       "$$T _ { \\mu \\nu } ^ { c o n } = ( \\partial _ { \\nu } A _ { \\alpha } ) \\, \\frac { \\partial { \\cal { L } } } { \\partial \\left( \\partial _ { \\mu } A _ { \\alpha } ) } - \\delta _ { \\mu \\nu } { \\cal L } , $$"
      ],
      "text/plain": [
       "<IPython.core.display.Math object>"
      ]
     },
     "metadata": {},
     "output_type": "display_data"
    },
    {
     "name": "stdout",
     "output_type": "stream",
     "text": [
      "\n",
      "\n",
      "Original (Input) Image: 2\n"
     ]
    },
    {
     "data": {
      "image/png": "[encoded data removed]",
      "text/plain": [
       "<IPython.core.display.Image object>"
      ]
     },
     "metadata": {},
     "output_type": "display_data"
    },
    {
     "name": "stdout",
     "output_type": "stream",
     "text": [
      "Predicted Latex\n",
      "S = S _ { a } = 4 \\pi \\; ( M ^ { 2 } - \\frac { 1 } { 2 } M _ { e x t r } ^ { 2 } ) \\ . \n",
      "\n",
      "Rendering the predicted latex\n"
     ]
    },
    {
     "data": {
      "text/latex": [
       "$$S = S _ { a } = 4 \\pi \\; ( M ^ { 2 } - \\frac { 1 } { 2 } M _ { e x t r } ^ { 2 } ) \\ . $$"
      ],
      "text/plain": [
       "<IPython.core.display.Math object>"
      ]
     },
     "metadata": {},
     "output_type": "display_data"
    },
    {
     "name": "stdout",
     "output_type": "stream",
     "text": [
      "\n",
      "\n",
      "Original (Input) Image: 3\n"
     ]
    },
    {
     "data": {
      "image/png": "[encoded data removed]",
      "text/plain": [
       "<IPython.core.display.Image object>"
      ]
     },
     "metadata": {},
     "output_type": "display_data"
    },
    {
     "name": "stdout",
     "output_type": "stream",
     "text": [
      "Predicted Latex\n",
      "\\Phi ( x ) = \\sum _ { i } ( G _ { i } ( x ) b _ { i } + G _ { i } ^ { * } ( x ) b _ { i } ^ { \\dagger } ) \n",
      "\n",
      "Rendering the predicted latex\n"
     ]
    },
    {
     "data": {
      "text/latex": [
       "$$\\Phi ( x ) = \\sum _ { i } ( G _ { i } ( x ) b _ { i } + G _ { i } ^ { * } ( x ) b _ { i } ^ { \\dagger } ) $$"
      ],
      "text/plain": [
       "<IPython.core.display.Math object>"
      ]
     },
     "metadata": {},
     "output_type": "display_data"
    },
    {
     "name": "stdout",
     "output_type": "stream",
     "text": [
      "\n",
      "\n",
      "Original (Input) Image: 4\n"
     ]
    },
    {
     "data": {
      "image/png": "[encoded data removed]",
      "text/plain": [
       "<IPython.core.display.Image object>"
      ]
     },
     "metadata": {},
     "output_type": "display_data"
    },
    {
     "name": "stdout",
     "output_type": "stream",
     "text": [
      "Predicted Latex\n",
      "m _ { d y n } ^ { 2 } \\simeq | e B | \\frac { \\operatorname { l n } \\left[ ( \\operatorname { l n } \\Lambda ^ { 2 } l ^ { 2 } ) / \\pi ] } { \\operatorname { l n } \\Lambda ^ { 2 } l ^ { 2 } } . \n",
      "\n",
      "Rendering the predicted latex\n"
     ]
    },
    {
     "data": {
      "text/latex": [
       "$$m _ { d y n } ^ { 2 } \\simeq | e B | \\frac { \\operatorname { l n } \\left[ ( \\operatorname { l n } \\Lambda ^ { 2 } l ^ { 2 } ) / \\pi ] } { \\operatorname { l n } \\Lambda ^ { 2 } l ^ { 2 } } . $$"
      ],
      "text/plain": [
       "<IPython.core.display.Math object>"
      ]
     },
     "metadata": {},
     "output_type": "display_data"
    },
    {
     "name": "stdout",
     "output_type": "stream",
     "text": [
      "\n",
      "\n",
      "Original (Input) Image: 5\n"
     ]
    },
    {
     "data": {
      "image/png": "[encoded data removed]",
      "text/plain": [
       "<IPython.core.display.Image object>"
      ]
     },
     "metadata": {},
     "output_type": "display_data"
    },
    {
     "name": "stdout",
     "output_type": "stream",
     "text": [
      "Predicted Latex\n",
      "\\Lambda ^ { \\mu } ( p , p ) = - \\frac { 1 } { ( 2 \\pi ) ^ { \\frac 1 2 } } \\frac { \\partial } { \\partial p _ { \\mu } } \\hat { \\Sigma } ( p ) , \n",
      "\n",
      "Rendering the predicted latex\n"
     ]
    },
    {
     "data": {
      "text/latex": [
       "$$\\Lambda ^ { \\mu } ( p , p ) = - \\frac { 1 } { ( 2 \\pi ) ^ { \\frac 1 2 } } \\frac { \\partial } { \\partial p _ { \\mu } } \\hat { \\Sigma } ( p ) , $$"
      ],
      "text/plain": [
       "<IPython.core.display.Math object>"
      ]
     },
     "metadata": {},
     "output_type": "display_data"
    },
    {
     "name": "stdout",
     "output_type": "stream",
     "text": [
      "\n",
      "\n",
      "Original (Input) Image: 6\n"
     ]
    },
    {
     "data": {
      "image/png": "[encoded data removed]",
      "text/plain": [
       "<IPython.core.display.Image object>"
      ]
     },
     "metadata": {},
     "output_type": "display_data"
    },
    {
     "name": "stdout",
     "output_type": "stream",
     "text": [
      "Predicted Latex\n",
      "k ^ { 2 } ( \\bar { s } ) \\; = \\, 1 \\, - \\, \\mu ^ { 2 } \\, \\frac { ( \\mathrm { t a n h } \\bar { s } ) ^ { 2 } - \\, 1 } { ( \\operatorname { t a n h } \\bar { s } ) ^ { 2 } \\, - \\mu ^ { 2 } } \\, . \n",
      "\n",
      "Rendering the predicted latex\n"
     ]
    },
    {
     "data": {
      "text/latex": [
       "$$k ^ { 2 } ( \\bar { s } ) \\; = \\, 1 \\, - \\, \\mu ^ { 2 } \\, \\frac { ( \\mathrm { t a n h } \\bar { s } ) ^ { 2 } - \\, 1 } { ( \\operatorname { t a n h } \\bar { s } ) ^ { 2 } \\, - \\mu ^ { 2 } } \\, . $$"
      ],
      "text/plain": [
       "<IPython.core.display.Math object>"
      ]
     },
     "metadata": {},
     "output_type": "display_data"
    },
    {
     "name": "stdout",
     "output_type": "stream",
     "text": [
      "\n",
      "\n",
      "Original (Input) Image: 7\n"
     ]
    },
    {
     "data": {
      "image/png": "[encoded data removed]",
      "text/plain": [
       "<IPython.core.display.Image object>"
      ]
     },
     "metadata": {},
     "output_type": "display_data"
    },
    {
     "name": "stdout",
     "output_type": "stream",
     "text": [
      "Predicted Latex\n",
      "| g ^ { \\prime } | = \\rho \\frac { R } { 1 - \\beta ^ { \\prime } | ^ { i } } \\leq \\rho \\frac { R } { ( R - 1 ) ^ { 2 } } . \n",
      "\n",
      "Rendering the predicted latex\n"
     ]
    },
    {
     "data": {
      "text/latex": [
       "$$| g ^ { \\prime } | = \\rho \\frac { R } { 1 - \\beta ^ { \\prime } | ^ { i } } \\leq \\rho \\frac { R } { ( R - 1 ) ^ { 2 } } . $$"
      ],
      "text/plain": [
       "<IPython.core.display.Math object>"
      ]
     },
     "metadata": {},
     "output_type": "display_data"
    },
    {
     "name": "stdout",
     "output_type": "stream",
     "text": [
      "\n",
      "\n",
      "Original (Input) Image: 8\n"
     ]
    },
    {
     "data": {
      "image/png": "[encoded data removed]",
      "text/plain": [
       "<IPython.core.display.Image object>"
      ]
     },
     "metadata": {},
     "output_type": "display_data"
    },
    {
     "name": "stdout",
     "output_type": "stream",
     "text": [
      "Predicted Latex\n",
      "\\frac { g ^ { 2 } } { 1 6 \\pi ^ { 2 } } \\int \\mathrm { t r } ( F ^ { \\mu \\nu } \\tilde { F } _ { \\mu \\nu } ) d ^ { 4 } x = k - \\frac n { N } , \n",
      "\n",
      "Rendering the predicted latex\n"
     ]
    },
    {
     "data": {
      "text/latex": [
       "$$\\frac { g ^ { 2 } } { 1 6 \\pi ^ { 2 } } \\int \\mathrm { t r } ( F ^ { \\mu \\nu } \\tilde { F } _ { \\mu \\nu } ) d ^ { 4 } x = k - \\frac n { N } , $$"
      ],
      "text/plain": [
       "<IPython.core.display.Math object>"
      ]
     },
     "metadata": {},
     "output_type": "display_data"
    },
    {
     "name": "stdout",
     "output_type": "stream",
     "text": [
      "\n",
      "\n",
      "Original (Input) Image: 9\n"
     ]
    },
    {
     "data": {
      "image/png": "[encoded data removed]",
      "text/plain": [
       "<IPython.core.display.Image object>"
      ]
     },
     "metadata": {},
     "output_type": "display_data"
    },
    {
     "name": "stdout",
     "output_type": "stream",
     "text": [
      "Predicted Latex\n",
      "f _ { k } \\left( \\eta \\right) = \\frac { 1 } { \\sqrt { 2 k } } \\, ( u _ { k } \\left( \\eta \\right) + v _ { k } ^ { * } \\, ( \\eta \\right) \\right) \n",
      "\n",
      "Rendering the predicted latex\n"
     ]
    },
    {
     "data": {
      "text/latex": [
       "$$f _ { k } \\left( \\eta \\right) = \\frac { 1 } { \\sqrt { 2 k } } \\, ( u _ { k } \\left( \\eta \\right) + v _ { k } ^ { * } \\, ( \\eta \\right) \\right) $$"
      ],
      "text/plain": [
       "<IPython.core.display.Math object>"
      ]
     },
     "metadata": {},
     "output_type": "display_data"
    },
    {
     "name": "stdout",
     "output_type": "stream",
     "text": [
      "\n",
      "\n",
      "Original (Input) Image: 10\n"
     ]
    },
    {
     "data": {
      "image/png": "[encoded data removed]",
      "text/plain": [
       "<IPython.core.display.Image object>"
      ]
     },
     "metadata": {},
     "output_type": "display_data"
    },
    {
     "name": "stdout",
     "output_type": "stream",
     "text": [
      "Predicted Latex\n",
      "B ( d ) = \\frac { \\Gamma ( 2 - d / 2 ) \\Gamma ^ { 2 } ( d / 2 - 1 ) } { ( 4 \\pi ) ^ { d / 2 } \\Gamma ( d - 2 ) } . \n",
      "\n",
      "Rendering the predicted latex\n"
     ]
    },
    {
     "data": {
      "text/latex": [
       "$$B ( d ) = \\frac { \\Gamma ( 2 - d / 2 ) \\Gamma ^ { 2 } ( d / 2 - 1 ) } { ( 4 \\pi ) ^ { d / 2 } \\Gamma ( d - 2 ) } . $$"
      ],
      "text/plain": [
       "<IPython.core.display.Math object>"
      ]
     },
     "metadata": {},
     "output_type": "display_data"
    },
    {
     "name": "stdout",
     "output_type": "stream",
     "text": [
      "\n",
      "\n",
      "Original (Input) Image: 11\n"
     ]
    },
    {
     "data": {
      "image/png": "[encoded data removed]",
      "text/plain": [
       "<IPython.core.display.Image object>"
      ]
     },
     "metadata": {},
     "output_type": "display_data"
    },
    {
     "name": "stdout",
     "output_type": "stream",
     "text": [
      "Predicted Latex\n",
      "\\frac { k r _ { 0 } } { 2 } b ( x ) \\mathrm { T r } T _ { \\mu \\nu } = \\frac { r ( x ) } { \\sqrt { 6 } \\Lambda _ { W } } \\mathrm { T r } T _ { \\mu \\nu } \n",
      "\n",
      "Rendering the predicted latex\n"
     ]
    },
    {
     "data": {
      "text/latex": [
       "$$\\frac { k r _ { 0 } } { 2 } b ( x ) \\mathrm { T r } T _ { \\mu \\nu } = \\frac { r ( x ) } { \\sqrt { 6 } \\Lambda _ { W } } \\mathrm { T r } T _ { \\mu \\nu } $$"
      ],
      "text/plain": [
       "<IPython.core.display.Math object>"
      ]
     },
     "metadata": {},
     "output_type": "display_data"
    },
    {
     "name": "stdout",
     "output_type": "stream",
     "text": [
      "\n",
      "\n",
      "Original (Input) Image: 12\n"
     ]
    },
    {
     "data": {
      "image/png": "[encoded data removed]",
      "text/plain": [
       "<IPython.core.display.Image object>"
      ]
     },
     "metadata": {},
     "output_type": "display_data"
    },
    {
     "name": "stdout",
     "output_type": "stream",
     "text": [
      "Predicted Latex\n",
      "\\alpha = \\sum _ { p } \\sum _ { i _ { p } } \\left[ \\oplus _ { q } \\otimes _ { i _ { q } } \\, \\alpha _ { ( p , q ) } \\right] \\right] c _ { p } ^ { i p } , \n",
      "\n",
      "Rendering the predicted latex\n"
     ]
    },
    {
     "data": {
      "text/latex": [
       "$$\\alpha = \\sum _ { p } \\sum _ { i _ { p } } \\left[ \\oplus _ { q } \\otimes _ { i _ { q } } \\, \\alpha _ { ( p , q ) } \\right] \\right] c _ { p } ^ { i p } , $$"
      ],
      "text/plain": [
       "<IPython.core.display.Math object>"
      ]
     },
     "metadata": {},
     "output_type": "display_data"
    },
    {
     "name": "stdout",
     "output_type": "stream",
     "text": [
      "\n",
      "\n",
      "Original (Input) Image: 13\n"
     ]
    },
    {
     "data": {
      "image/png": "[encoded data removed]",
      "text/plain": [
       "<IPython.core.display.Image object>"
      ]
     },
     "metadata": {},
     "output_type": "display_data"
    },
    {
     "name": "stdout",
     "output_type": "stream",
     "text": [
      "Predicted Latex\n",
      "\\sum _ { i = 1 } ^ { \\infty } \\sum _ { j = 1 } ^ { \\infty } \\frac { 1 } { 2 } \\psi _ { i j } \\psi _ { j i } - \\sum _ { i = 1 } ^ { r } \\sum _ { j = 1 } ^ { \\infty } \\psi _ { i j } \\psi _ { j i } \\, . \n",
      "\n",
      "Rendering the predicted latex\n"
     ]
    },
    {
     "data": {
      "text/latex": [
       "$$\\sum _ { i = 1 } ^ { \\infty } \\sum _ { j = 1 } ^ { \\infty } \\frac { 1 } { 2 } \\psi _ { i j } \\psi _ { j i } - \\sum _ { i = 1 } ^ { r } \\sum _ { j = 1 } ^ { \\infty } \\psi _ { i j } \\psi _ { j i } \\, . $$"
      ],
      "text/plain": [
       "<IPython.core.display.Math object>"
      ]
     },
     "metadata": {},
     "output_type": "display_data"
    },
    {
     "name": "stdout",
     "output_type": "stream",
     "text": [
      "\n",
      "\n",
      "Original (Input) Image: 14\n"
     ]
    },
    {
     "data": {
      "image/png": "[encoded data removed]",
      "text/plain": [
       "<IPython.core.display.Image object>"
      ]
     },
     "metadata": {},
     "output_type": "display_data"
    },
    {
     "name": "stdout",
     "output_type": "stream",
     "text": [
      "Predicted Latex\n",
      "S _ { f } = - \\frac { 1 } { 4 \\Omega _ { D - 2 } } \\, \\int d ^ { D } x \\, F _ { \\mu \\nu } \\, F ^ { \\mu \\nu } \n",
      "\n",
      "Rendering the predicted latex\n"
     ]
    },
    {
     "data": {
      "text/latex": [
       "$$S _ { f } = - \\frac { 1 } { 4 \\Omega _ { D - 2 } } \\, \\int d ^ { D } x \\, F _ { \\mu \\nu } \\, F ^ { \\mu \\nu } $$"
      ],
      "text/plain": [
       "<IPython.core.display.Math object>"
      ]
     },
     "metadata": {},
     "output_type": "display_data"
    },
    {
     "name": "stdout",
     "output_type": "stream",
     "text": [
      "\n",
      "\n",
      "Original (Input) Image: 15\n"
     ]
    },
    {
     "data": {
      "image/png": "[encoded data removed]",
      "text/plain": [
       "<IPython.core.display.Image object>"
      ]
     },
     "metadata": {},
     "output_type": "display_data"
    },
    {
     "name": "stdout",
     "output_type": "stream",
     "text": [
      "Predicted Latex\n",
      "g _ { T } = \\widehat { V } ( k _ { 1 } , k _ { 2 } , k _ { 3 } ) \\biggl | _ { k _ { 1 } ^ { 2 } = k _ { 2 } ^ { 2 } = k _ { 2 } ^ { 2 } = 1 } , \n",
      "\n",
      "Rendering the predicted latex\n"
     ]
    },
    {
     "data": {
      "text/latex": [
       "$$g _ { T } = \\widehat { V } ( k _ { 1 } , k _ { 2 } , k _ { 3 } ) \\biggl | _ { k _ { 1 } ^ { 2 } = k _ { 2 } ^ { 2 } = k _ { 2 } ^ { 2 } = 1 } , $$"
      ],
      "text/plain": [
       "<IPython.core.display.Math object>"
      ]
     },
     "metadata": {},
     "output_type": "display_data"
    },
    {
     "name": "stdout",
     "output_type": "stream",
     "text": [
      "\n",
      "\n",
      "Original (Input) Image: 16\n"
     ]
    },
    {
     "data": {
      "image/png": "[encoded data removed]",
      "text/plain": [
       "<IPython.core.display.Image object>"
      ]
     },
     "metadata": {},
     "output_type": "display_data"
    },
    {
     "name": "stdout",
     "output_type": "stream",
     "text": [
      "Predicted Latex\n",
      "\\partial \\phi _ { 0 } \\gamma _ { 2 1 } \\phi _ { 0 } ^ { - 1 } = \\frac { \\mathrm { e } ^ { \\gamma _ { 5 } \\beta } } { \\rho } ( j _ { 0 } + \\gamma _ { 5 } g _ { 0 } ) . \n",
      "\n",
      "Rendering the predicted latex\n"
     ]
    },
    {
     "data": {
      "text/latex": [
       "$$\\partial \\phi _ { 0 } \\gamma _ { 2 1 } \\phi _ { 0 } ^ { - 1 } = \\frac { \\mathrm { e } ^ { \\gamma _ { 5 } \\beta } } { \\rho } ( j _ { 0 } + \\gamma _ { 5 } g _ { 0 } ) . $$"
      ],
      "text/plain": [
       "<IPython.core.display.Math object>"
      ]
     },
     "metadata": {},
     "output_type": "display_data"
    },
    {
     "name": "stdout",
     "output_type": "stream",
     "text": [
      "\n",
      "\n",
      "Original (Input) Image: 17\n"
     ]
    },
    {
     "data": {
      "image/png": "[encoded data removed]",
      "text/plain": [
       "<IPython.core.display.Image object>"
      ]
     },
     "metadata": {},
     "output_type": "display_data"
    },
    {
     "name": "stdout",
     "output_type": "stream",
     "text": [
      "Predicted Latex\n",
      "\\omega ( k ) = c k + c k \\left[ \\frac 1 \\hbar - 1 \\right] { \\cal F } ( k / K ) . \n",
      "\n",
      "Rendering the predicted latex\n"
     ]
    },
    {
     "data": {
      "text/latex": [
       "$$\\omega ( k ) = c k + c k \\left[ \\frac 1 \\hbar - 1 \\right] { \\cal F } ( k / K ) . $$"
      ],
      "text/plain": [
       "<IPython.core.display.Math object>"
      ]
     },
     "metadata": {},
     "output_type": "display_data"
    },
    {
     "name": "stdout",
     "output_type": "stream",
     "text": [
      "\n",
      "\n",
      "Original (Input) Image: 18\n"
     ]
    },
    {
     "data": {
      "image/png": "[encoded data removed]",
      "text/plain": [
       "<IPython.core.display.Image object>"
      ]
     },
     "metadata": {},
     "output_type": "display_data"
    },
    {
     "name": "stdout",
     "output_type": "stream",
     "text": [
      "Predicted Latex\n",
      "F ^ { 2 } - 1 \\leq 2 ( N ^ { 2 } - 1 ) + { \\frac { 7 } { 8 } } 4 N F \\; , \n",
      "\n",
      "Rendering the predicted latex\n"
     ]
    },
    {
     "data": {
      "text/latex": [
       "$$F ^ { 2 } - 1 \\leq 2 ( N ^ { 2 } - 1 ) + { \\frac { 7 } { 8 } } 4 N F \\; , $$"
      ],
      "text/plain": [
       "<IPython.core.display.Math object>"
      ]
     },
     "metadata": {},
     "output_type": "display_data"
    },
    {
     "name": "stdout",
     "output_type": "stream",
     "text": [
      "\n",
      "\n",
      "Original (Input) Image: 19\n"
     ]
    },
    {
     "data": {
      "image/png": "[encoded data removed]",
      "text/plain": [
       "<IPython.core.display.Image object>"
      ]
     },
     "metadata": {},
     "output_type": "display_data"
    },
    {
     "name": "stdout",
     "output_type": "stream",
     "text": [
      "Predicted Latex\n",
      "{ \\tilde { D } } ^ { d } ( t ) \\sim { \\frac { 1 } { 2 i \\omega } } \\, e ^ { i \\omega ( f _ { F } - t ) } + ( \\mathrm { c . c . } ) \n",
      "\n",
      "Rendering the predicted latex\n"
     ]
    },
    {
     "data": {
      "text/latex": [
       "$${ \\tilde { D } } ^ { d } ( t ) \\sim { \\frac { 1 } { 2 i \\omega } } \\, e ^ { i \\omega ( f _ { F } - t ) } + ( \\mathrm { c . c . } ) $$"
      ],
      "text/plain": [
       "<IPython.core.display.Math object>"
      ]
     },
     "metadata": {},
     "output_type": "display_data"
    },
    {
     "name": "stdout",
     "output_type": "stream",
     "text": [
      "\n",
      "\n",
      "Original (Input) Image: 20\n"
     ]
    },
    {
     "data": {
      "image/png": "[encoded data removed]",
      "text/plain": [
       "<IPython.core.display.Image object>"
      ]
     },
     "metadata": {},
     "output_type": "display_data"
    },
    {
     "name": "stdout",
     "output_type": "stream",
     "text": [
      "Predicted Latex\n",
      "z ^ { \\parallel | } = \\frac { z \\ell } { L } \\; \\; \\; z ^ { \\bot } = \\sqrt { z ^ { 2 } + z ^ { \\parallel \\, 2 } - i \\epsilon } \\; . \n",
      "\n",
      "Rendering the predicted latex\n"
     ]
    },
    {
     "data": {
      "text/latex": [
       "$$z ^ { \\parallel | } = \\frac { z \\ell } { L } \\; \\; \\; z ^ { \\bot } = \\sqrt { z ^ { 2 } + z ^ { \\parallel \\, 2 } - i \\epsilon } \\; . $$"
      ],
      "text/plain": [
       "<IPython.core.display.Math object>"
      ]
     },
     "metadata": {},
     "output_type": "display_data"
    },
    {
     "name": "stdout",
     "output_type": "stream",
     "text": [
      "\n",
      "\n",
      "Original (Input) Image: 21\n"
     ]
    },
    {
     "data": {
      "image/png": "[encoded data removed]",
      "text/plain": [
       "<IPython.core.display.Image object>"
      ]
     },
     "metadata": {},
     "output_type": "display_data"
    },
    {
     "name": "stdout",
     "output_type": "stream",
     "text": [
      "Predicted Latex\n",
      "\\operatorname { e x p } \\left[ ( e Q ) \\left( \\frac { n } { 2 L } \\operatorname { l n } n - \\frac { n ^ { \\prime } } { 2 L } \\operatorname { l n } n ^ { \\prime } \\right) \\right] \n",
      "\n",
      "Rendering the predicted latex\n"
     ]
    },
    {
     "data": {
      "text/latex": [
       "$$\\operatorname { e x p } \\left[ ( e Q ) \\left( \\frac { n } { 2 L } \\operatorname { l n } n - \\frac { n ^ { \\prime } } { 2 L } \\operatorname { l n } n ^ { \\prime } \\right) \\right] $$"
      ],
      "text/plain": [
       "<IPython.core.display.Math object>"
      ]
     },
     "metadata": {},
     "output_type": "display_data"
    },
    {
     "name": "stdout",
     "output_type": "stream",
     "text": [
      "\n",
      "\n",
      "Original (Input) Image: 22\n"
     ]
    },
    {
     "data": {
      "image/png": "[encoded data removed]",
      "text/plain": [
       "<IPython.core.display.Image object>"
      ]
     },
     "metadata": {},
     "output_type": "display_data"
    },
    {
     "name": "stdout",
     "output_type": "stream",
     "text": [
      "Predicted Latex\n",
      "\\sigma ( u ) = \\sum _ { j = 0 } ^ { \\infty } G _ { j } u ^ { 4 j + 1 } , \\hspace { 1 . 2 c m } G _ { j } \\in \\Re . \n",
      "\n",
      "Rendering the predicted latex\n"
     ]
    },
    {
     "data": {
      "text/latex": [
       "$$\\sigma ( u ) = \\sum _ { j = 0 } ^ { \\infty } G _ { j } u ^ { 4 j + 1 } , \\hspace { 1 . 2 c m } G _ { j } \\in \\Re . $$"
      ],
      "text/plain": [
       "<IPython.core.display.Math object>"
      ]
     },
     "metadata": {},
     "output_type": "display_data"
    },
    {
     "name": "stdout",
     "output_type": "stream",
     "text": [
      "\n",
      "\n",
      "Original (Input) Image: 23\n"
     ]
    },
    {
     "data": {
      "image/png": "[encoded data removed]",
      "text/plain": [
       "<IPython.core.display.Image object>"
      ]
     },
     "metadata": {},
     "output_type": "display_data"
    },
    {
     "name": "stdout",
     "output_type": "stream",
     "text": [
      "Predicted Latex\n",
      "\\Gamma _ { + } ^ { 2 } = - \\frac { e ^ { 2 } } { 8 \\pi } \\int d t ~ d ^ { 2 } { \\bf x } ~ \\epsilon _ { i j } \\ a _ { j } \\dot { a } _ { i } , \n",
      "\n",
      "Rendering the predicted latex\n"
     ]
    },
    {
     "data": {
      "text/latex": [
       "$$\\Gamma _ { + } ^ { 2 } = - \\frac { e ^ { 2 } } { 8 \\pi } \\int d t ~ d ^ { 2 } { \\bf x } ~ \\epsilon _ { i j } \\ a _ { j } \\dot { a } _ { i } , $$"
      ],
      "text/plain": [
       "<IPython.core.display.Math object>"
      ]
     },
     "metadata": {},
     "output_type": "display_data"
    },
    {
     "name": "stdout",
     "output_type": "stream",
     "text": [
      "\n",
      "\n",
      "Original (Input) Image: 24\n"
     ]
    },
    {
     "data": {
      "image/png": "[encoded data removed]",
      "text/plain": [
       "<IPython.core.display.Image object>"
      ]
     },
     "metadata": {},
     "output_type": "display_data"
    },
    {
     "name": "stdout",
     "output_type": "stream",
     "text": [
      "Predicted Latex\n",
      "I _ { \\mathrm { B u b } } = \\beta M _ { B } , ~ ~ ~ ~ ~ I _ { \\mathrm { S \\mathrm { c o h } } } = { \\frac { 1 } { 2 } } \\beta M _ { S } . \n",
      "\n",
      "Rendering the predicted latex\n"
     ]
    },
    {
     "data": {
      "text/latex": [
       "$$I _ { \\mathrm { B u b } } = \\beta M _ { B } , ~ ~ ~ ~ ~ I _ { \\mathrm { S \\mathrm { c o h } } } = { \\frac { 1 } { 2 } } \\beta M _ { S } . $$"
      ],
      "text/plain": [
       "<IPython.core.display.Math object>"
      ]
     },
     "metadata": {},
     "output_type": "display_data"
    },
    {
     "name": "stdout",
     "output_type": "stream",
     "text": [
      "\n",
      "\n",
      "Original (Input) Image: 25\n"
     ]
    },
    {
     "data": {
      "image/png": "[encoded data removed]",
      "text/plain": [
       "<IPython.core.display.Image object>"
      ]
     },
     "metadata": {},
     "output_type": "display_data"
    },
    {
     "name": "stdout",
     "output_type": "stream",
     "text": [
      "Predicted Latex\n",
      "\\delta ^ { ( 2 ) } ( x , p ) \\star \\delta ^ { ( 2 ) } \\left( x , p ) = \\frac 1 { \\pi ^ { 2 } \\theta ^ { 2 } } \n",
      "\n",
      "Rendering the predicted latex\n"
     ]
    },
    {
     "data": {
      "text/latex": [
       "$$\\delta ^ { ( 2 ) } ( x , p ) \\star \\delta ^ { ( 2 ) } \\left( x , p ) = \\frac 1 { \\pi ^ { 2 } \\theta ^ { 2 } } $$"
      ],
      "text/plain": [
       "<IPython.core.display.Math object>"
      ]
     },
     "metadata": {},
     "output_type": "display_data"
    },
    {
     "name": "stdout",
     "output_type": "stream",
     "text": [
      "\n",
      "\n",
      "Original (Input) Image: 26\n"
     ]
    },
    {
     "data": {
      "image/png": "[encoded data removed]",
      "text/plain": [
       "<IPython.core.display.Image object>"
      ]
     },
     "metadata": {},
     "output_type": "display_data"
    },
    {
     "name": "stdout",
     "output_type": "stream",
     "text": [
      "Predicted Latex\n",
      "P ^ { - } d X ^ { + } = \\left( \\frac { ( P ^ { a } ) ^ { 2 } } { 2 P ^ { + } } + \\cdots \\Big ) d X ^ { + } . \n",
      "\n",
      "Rendering the predicted latex\n"
     ]
    },
    {
     "data": {
      "text/latex": [
       "$$P ^ { - } d X ^ { + } = \\left( \\frac { ( P ^ { a } ) ^ { 2 } } { 2 P ^ { + } } + \\cdots \\Big ) d X ^ { + } . $$"
      ],
      "text/plain": [
       "<IPython.core.display.Math object>"
      ]
     },
     "metadata": {},
     "output_type": "display_data"
    },
    {
     "name": "stdout",
     "output_type": "stream",
     "text": [
      "\n",
      "\n",
      "Original (Input) Image: 27\n"
     ]
    },
    {
     "data": {
      "image/png": "[encoded data removed]",
      "text/plain": [
       "<IPython.core.display.Image object>"
      ]
     },
     "metadata": {},
     "output_type": "display_data"
    },
    {
     "name": "stdout",
     "output_type": "stream",
     "text": [
      "Predicted Latex\n",
      "g H _ { \\mathrm { m i n } } \\simeq \\mu ^ { 2 } \\operatorname { e x p } \\left( - \\frac { 2 4 \\pi ^ { 2 } } { 1 1 g ^ { 2 } } \\right) - \\frac { R } { 4 } . \n",
      "\n",
      "Rendering the predicted latex\n"
     ]
    },
    {
     "data": {
      "text/latex": [
       "$$g H _ { \\mathrm { m i n } } \\simeq \\mu ^ { 2 } \\operatorname { e x p } \\left( - \\frac { 2 4 \\pi ^ { 2 } } { 1 1 g ^ { 2 } } \\right) - \\frac { R } { 4 } . $$"
      ],
      "text/plain": [
       "<IPython.core.display.Math object>"
      ]
     },
     "metadata": {},
     "output_type": "display_data"
    },
    {
     "name": "stdout",
     "output_type": "stream",
     "text": [
      "\n",
      "\n",
      "Original (Input) Image: 28\n"
     ]
    },
    {
     "data": {
      "image/png": "[encoded data removed]",
      "text/plain": [
       "<IPython.core.display.Image object>"
      ]
     },
     "metadata": {},
     "output_type": "display_data"
    },
    {
     "name": "stdout",
     "output_type": "stream",
     "text": [
      "Predicted Latex\n",
      "\\hat { F } _ { a b } ( x ) \\, \\psi ( { \\bf X } ) = \\frac { i } { g } \\, \\partial _ { [ a } \\frac { \\delta } { \\delta X ^ { b ] } x } \\, \\psi ( { \\bf X } ) \n",
      "\n",
      "Rendering the predicted latex\n"
     ]
    },
    {
     "data": {
      "text/latex": [
       "$$\\hat { F } _ { a b } ( x ) \\, \\psi ( { \\bf X } ) = \\frac { i } { g } \\, \\partial _ { [ a } \\frac { \\delta } { \\delta X ^ { b ] } x } \\, \\psi ( { \\bf X } ) $$"
      ],
      "text/plain": [
       "<IPython.core.display.Math object>"
      ]
     },
     "metadata": {},
     "output_type": "display_data"
    },
    {
     "name": "stdout",
     "output_type": "stream",
     "text": [
      "\n",
      "\n",
      "Original (Input) Image: 29\n"
     ]
    },
    {
     "data": {
      "image/png": "[encoded data removed]",
      "text/plain": [
       "<IPython.core.display.Image object>"
      ]
     },
     "metadata": {},
     "output_type": "display_data"
    },
    {
     "name": "stdout",
     "output_type": "stream",
     "text": [
      "Predicted Latex\n",
      "\\sum _ { i = 1 } ^ { n } \\frac { d u _ { i } } { u _ { i } } \\wedge d \\beta _ { i } - \\sum _ { i < j } \\frac { d \\beta _ { i } \\wedge d \\beta _ { j } } { \\beta _ { i } - \\beta _ { j } } . \n",
      "\n",
      "Rendering the predicted latex\n"
     ]
    },
    {
     "data": {
      "text/latex": [
       "$$\\sum _ { i = 1 } ^ { n } \\frac { d u _ { i } } { u _ { i } } \\wedge d \\beta _ { i } - \\sum _ { i < j } \\frac { d \\beta _ { i } \\wedge d \\beta _ { j } } { \\beta _ { i } - \\beta _ { j } } . $$"
      ],
      "text/plain": [
       "<IPython.core.display.Math object>"
      ]
     },
     "metadata": {},
     "output_type": "display_data"
    },
    {
     "name": "stdout",
     "output_type": "stream",
     "text": [
      "\n",
      "\n",
      "Original (Input) Image: 30\n"
     ]
    },
    {
     "data": {
      "image/png": "[encoded data removed]",
      "text/plain": [
       "<IPython.core.display.Image object>"
      ]
     },
     "metadata": {},
     "output_type": "display_data"
    },
    {
     "name": "stdout",
     "output_type": "stream",
     "text": [
      "Predicted Latex\n",
      "{ \\cal P } _ { r } = { \\frac { 1 } { 4 \\pi } } ( - \\partial _ { 2 } c \\cdot a _ { 2 r } + { \\partial } _ { 1 } c \\cdot b _ { 2 r } ) , \n",
      "\n",
      "Rendering the predicted latex\n"
     ]
    },
    {
     "data": {
      "text/latex": [
       "$${ \\cal P } _ { r } = { \\frac { 1 } { 4 \\pi } } ( - \\partial _ { 2 } c \\cdot a _ { 2 r } + { \\partial } _ { 1 } c \\cdot b _ { 2 r } ) , $$"
      ],
      "text/plain": [
       "<IPython.core.display.Math object>"
      ]
     },
     "metadata": {},
     "output_type": "display_data"
    },
    {
     "name": "stdout",
     "output_type": "stream",
     "text": [
      "\n",
      "\n",
      "Original (Input) Image: 31\n"
     ]
    },
    {
     "data": {
      "image/png": "[encoded data removed]",
      "text/plain": [
       "<IPython.core.display.Image object>"
      ]
     },
     "metadata": {},
     "output_type": "display_data"
    },
    {
     "name": "stdout",
     "output_type": "stream",
     "text": [
      "Predicted Latex\n",
      "\\eta _ { E } ^ { \\prime } = \\left( \\begin{array} { c } { \\eta _ { E } ^ { + } } \\\\ { \\eta _ { E } ^ { - } } \\\\ \\end{array} \\right) , \\quad \\eta _ { M } ^ { \\prime } = \\left( \\begin{array} { c } { \\eta _ { M } ^ { + } } \\\\ { \\eta _ { M } ^ { - M } } \\\\ \\end{array} \\right) , \n",
      "\n",
      "Rendering the predicted latex\n"
     ]
    },
    {
     "data": {
      "text/latex": [
       "$$\\eta _ { E } ^ { \\prime } = \\left( \\begin{array} { c } { \\eta _ { E } ^ { + } } \\\\ { \\eta _ { E } ^ { - } } \\\\ \\end{array} \\right) , \\quad \\eta _ { M } ^ { \\prime } = \\left( \\begin{array} { c } { \\eta _ { M } ^ { + } } \\\\ { \\eta _ { M } ^ { - M } } \\\\ \\end{array} \\right) , $$"
      ],
      "text/plain": [
       "<IPython.core.display.Math object>"
      ]
     },
     "metadata": {},
     "output_type": "display_data"
    },
    {
     "name": "stdout",
     "output_type": "stream",
     "text": [
      "\n",
      "\n",
      "Original (Input) Image: 32\n"
     ]
    },
    {
     "data": {
      "image/png": "[encoded data removed]",
      "text/plain": [
       "<IPython.core.display.Image object>"
      ]
     },
     "metadata": {},
     "output_type": "display_data"
    },
    {
     "name": "stdout",
     "output_type": "stream",
     "text": [
      "Predicted Latex\n",
      "V _ { \\mathrm { e f f } } ( r ) = - \\frac { 1 5 } { 1 6 } \\frac { v ^ { 4 } } { r ^ { 7 } } + { \\cal O } \\left( \\frac { v ^ { 6 } } { r ^ { 1 1 } } \\right) \\; . \n",
      "\n",
      "Rendering the predicted latex\n"
     ]
    },
    {
     "data": {
      "text/latex": [
       "$$V _ { \\mathrm { e f f } } ( r ) = - \\frac { 1 5 } { 1 6 } \\frac { v ^ { 4 } } { r ^ { 7 } } + { \\cal O } \\left( \\frac { v ^ { 6 } } { r ^ { 1 1 } } \\right) \\; . $$"
      ],
      "text/plain": [
       "<IPython.core.display.Math object>"
      ]
     },
     "metadata": {},
     "output_type": "display_data"
    },
    {
     "name": "stdout",
     "output_type": "stream",
     "text": [
      "\n",
      "\n",
      "Original (Input) Image: 33\n"
     ]
    },
    {
     "data": {
      "image/png": "[encoded data removed]",
      "text/plain": [
       "<IPython.core.display.Image object>"
      ]
     },
     "metadata": {},
     "output_type": "display_data"
    },
    {
     "name": "stdout",
     "output_type": "stream",
     "text": [
      "Predicted Latex\n",
      "a ( \\eta ) = { \\frac { 3 \\alpha } { 8 \\pi G R ^ { 2 } \\operatorname { c o s } ^ { 2 } \\left( { \\eta } / ( 2 R ) } ) } , \n",
      "\n",
      "Rendering the predicted latex\n"
     ]
    },
    {
     "data": {
      "text/latex": [
       "$$a ( \\eta ) = { \\frac { 3 \\alpha } { 8 \\pi G R ^ { 2 } \\operatorname { c o s } ^ { 2 } \\left( { \\eta } / ( 2 R ) } ) } , $$"
      ],
      "text/plain": [
       "<IPython.core.display.Math object>"
      ]
     },
     "metadata": {},
     "output_type": "display_data"
    },
    {
     "name": "stdout",
     "output_type": "stream",
     "text": [
      "\n",
      "\n",
      "Original (Input) Image: 34\n"
     ]
    },
    {
     "data": {
      "image/png": "[encoded data removed]",
      "text/plain": [
       "<IPython.core.display.Image object>"
      ]
     },
     "metadata": {},
     "output_type": "display_data"
    },
    {
     "name": "stdout",
     "output_type": "stream",
     "text": [
      "Predicted Latex\n",
      "{ \\cal L } _ { S G } = \\frac { 1 } { 2 } \\partial ^ { \\mu } \\phi \\partial _ { \\mu } \\phi - ( 1 - c o s \\phi ) \n",
      "\n",
      "Rendering the predicted latex\n"
     ]
    },
    {
     "data": {
      "text/latex": [
       "$${ \\cal L } _ { S G } = \\frac { 1 } { 2 } \\partial ^ { \\mu } \\phi \\partial _ { \\mu } \\phi - ( 1 - c o s \\phi ) $$"
      ],
      "text/plain": [
       "<IPython.core.display.Math object>"
      ]
     },
     "metadata": {},
     "output_type": "display_data"
    },
    {
     "name": "stdout",
     "output_type": "stream",
     "text": [
      "\n",
      "\n",
      "Original (Input) Image: 35\n"
     ]
    },
    {
     "data": {
      "image/png": "[encoded data removed]",
      "text/plain": [
       "<IPython.core.display.Image object>"
      ]
     },
     "metadata": {},
     "output_type": "display_data"
    },
    {
     "name": "stdout",
     "output_type": "stream",
     "text": [
      "Predicted Latex\n",
      "K = { \\frac { 3 \\alpha ^ { 2 } } { 2 } } e ^ { - \\alpha \\phi _ { 0 } } \\sqrt { { \\frac { 3 \\Lambda } { 9 \\alpha ^ { 2 } - 3 2 \\kappa _ { 5 } ^ { 2 } } } } , \n",
      "\n",
      "Rendering the predicted latex\n"
     ]
    },
    {
     "data": {
      "text/latex": [
       "$$K = { \\frac { 3 \\alpha ^ { 2 } } { 2 } } e ^ { - \\alpha \\phi _ { 0 } } \\sqrt { { \\frac { 3 \\Lambda } { 9 \\alpha ^ { 2 } - 3 2 \\kappa _ { 5 } ^ { 2 } } } } , $$"
      ],
      "text/plain": [
       "<IPython.core.display.Math object>"
      ]
     },
     "metadata": {},
     "output_type": "display_data"
    },
    {
     "name": "stdout",
     "output_type": "stream",
     "text": [
      "\n",
      "\n",
      "Original (Input) Image: 36\n"
     ]
    },
    {
     "data": {
      "image/png": "[encoded data removed]",
      "text/plain": [
       "<IPython.core.display.Image object>"
      ]
     },
     "metadata": {},
     "output_type": "display_data"
    },
    {
     "name": "stdout",
     "output_type": "stream",
     "text": [
      "Predicted Latex\n",
      "\\left( 1 + 2 \\frac { \\alpha } { M ^ { 4 } } X \\right) \\sqrt { 2 X } = \\frac { m } { \\sqrt { 1 2 \\pi G } } \\; . \n",
      "\n",
      "Rendering the predicted latex\n"
     ]
    },
    {
     "data": {
      "text/latex": [
       "$$\\left( 1 + 2 \\frac { \\alpha } { M ^ { 4 } } X \\right) \\sqrt { 2 X } = \\frac { m } { \\sqrt { 1 2 \\pi G } } \\; . $$"
      ],
      "text/plain": [
       "<IPython.core.display.Math object>"
      ]
     },
     "metadata": {},
     "output_type": "display_data"
    },
    {
     "name": "stdout",
     "output_type": "stream",
     "text": [
      "\n",
      "\n",
      "Original (Input) Image: 37\n"
     ]
    },
    {
     "data": {
      "image/png": "[encoded data removed]",
      "text/plain": [
       "<IPython.core.display.Image object>"
      ]
     },
     "metadata": {},
     "output_type": "display_data"
    },
    {
     "name": "stdout",
     "output_type": "stream",
     "text": [
      "Predicted Latex\n",
      "\\alpha ^ { 2 } ( r ) = \\beta ^ { - 2 } ( r ) = \\left( 1 - \\frac { r _ { s } } { r } \\right) ^ { \\frac { 2 M } { r _ { s } } } , , \n",
      "\n",
      "Rendering the predicted latex\n"
     ]
    },
    {
     "data": {
      "text/latex": [
       "$$\\alpha ^ { 2 } ( r ) = \\beta ^ { - 2 } ( r ) = \\left( 1 - \\frac { r _ { s } } { r } \\right) ^ { \\frac { 2 M } { r _ { s } } } , , $$"
      ],
      "text/plain": [
       "<IPython.core.display.Math object>"
      ]
     },
     "metadata": {},
     "output_type": "display_data"
    },
    {
     "name": "stdout",
     "output_type": "stream",
     "text": [
      "\n",
      "\n",
      "Original (Input) Image: 38\n"
     ]
    },
    {
     "data": {
      "image/png": "[encoded data removed]",
      "text/plain": [
       "<IPython.core.display.Image object>"
      ]
     },
     "metadata": {},
     "output_type": "display_data"
    },
    {
     "name": "stdout",
     "output_type": "stream",
     "text": [
      "Predicted Latex\n",
      "a = \\mathrm { d i a g } ( a _ { 1 } , \\ldots , a _ { N _ { c } } ) = a ^ { c _ { 0 } } \\frac { \\lambda ^ { c _ { 0 } } } { 2 } . \n",
      "\n",
      "Rendering the predicted latex\n"
     ]
    },
    {
     "data": {
      "text/latex": [
       "$$a = \\mathrm { d i a g } ( a _ { 1 } , \\ldots , a _ { N _ { c } } ) = a ^ { c _ { 0 } } \\frac { \\lambda ^ { c _ { 0 } } } { 2 } . $$"
      ],
      "text/plain": [
       "<IPython.core.display.Math object>"
      ]
     },
     "metadata": {},
     "output_type": "display_data"
    },
    {
     "name": "stdout",
     "output_type": "stream",
     "text": [
      "\n",
      "\n",
      "Original (Input) Image: 39\n"
     ]
    },
    {
     "data": {
      "image/png": "[encoded data removed]",
      "text/plain": [
       "<IPython.core.display.Image object>"
      ]
     },
     "metadata": {},
     "output_type": "display_data"
    },
    {
     "name": "stdout",
     "output_type": "stream",
     "text": [
      "Predicted Latex\n",
      "\\operatorname { t a n h } \\, \\frac { 3 } { 2 } \\, H _ { \\infty } t _ { 0 } = \\sqrt { \\Omega _ { \\Lambda } } \\approx 0 . 8 4 \\; . \n",
      "\n",
      "Rendering the predicted latex\n"
     ]
    },
    {
     "data": {
      "text/latex": [
       "$$\\operatorname { t a n h } \\, \\frac { 3 } { 2 } \\, H _ { \\infty } t _ { 0 } = \\sqrt { \\Omega _ { \\Lambda } } \\approx 0 . 8 4 \\; . $$"
      ],
      "text/plain": [
       "<IPython.core.display.Math object>"
      ]
     },
     "metadata": {},
     "output_type": "display_data"
    },
    {
     "name": "stdout",
     "output_type": "stream",
     "text": [
      "\n",
      "\n",
      "Original (Input) Image: 40\n"
     ]
    },
    {
     "data": {
      "image/png": "[encoded data removed]",
      "text/plain": [
       "<IPython.core.display.Image object>"
      ]
     },
     "metadata": {},
     "output_type": "display_data"
    },
    {
     "name": "stdout",
     "output_type": "stream",
     "text": [
      "Predicted Latex\n",
      "{ \\bf p } ( t ) = \\left[ T \\operatorname { e x p } \\int _ { 0 } ^ { t } y ( \\tau ) d \\tau \\biggr ] \\biggr ] \\biggr ] \\biggr ] \\biggr ] \\biggr ] \\biggr ] \\biggr ] \\biggr ] \\biggr ] \\biggr ] \\biggr ] \\biggr ] \\biggr ] \\biggr ] \\biggr ] \\biggr ] \\biggr ] \\biggr ] \\biggr ] \\biggr ] \\biggr ] \\biggr ] \\biggr ] \\biggr ] \\biggr ] \\biggr ] \\biggr ] \\biggr ] \\biggr ] \\biggr ] \\biggr ] \\biggr ] \\biggr ] \\biggr ] \\biggr ] \\biggr ] \\biggr ] \\biggr ] \\biggr ] \\biggr ] \\biggr ] \\biggr ] \\biggr ] \\biggr ] \\biggr ] \\biggr ] \\biggr ] \\biggr ] \\biggr ] \\biggr ] \\biggr ] \\biggr ] \\biggr ] \\biggr ] \\biggr ] \\biggr ] \\biggr ] \\biggr ] \\biggr ] \\biggr ] \\biggr ] \\biggr ] \\biggr ]\n",
      "\n",
      "Rendering the predicted latex\n"
     ]
    },
    {
     "data": {
      "text/latex": [
       "$${ \\bf p } ( t ) = \\left[ T \\operatorname { e x p } \\int _ { 0 } ^ { t } y ( \\tau ) d \\tau \\biggr ] \\biggr ] \\biggr ] \\biggr ] \\biggr ] \\biggr ] \\biggr ] \\biggr ] \\biggr ] \\biggr ] \\biggr ] \\biggr ] \\biggr ] \\biggr ] \\biggr ] \\biggr ] \\biggr ] \\biggr ] \\biggr ] \\biggr ] \\biggr ] \\biggr ] \\biggr ] \\biggr ] \\biggr ] \\biggr ] \\biggr ] \\biggr ] \\biggr ] \\biggr ] \\biggr ] \\biggr ] \\biggr ] \\biggr ] \\biggr ] \\biggr ] \\biggr ] \\biggr ] \\biggr ] \\biggr ] \\biggr ] \\biggr ] \\biggr ] \\biggr ] \\biggr ] \\biggr ] \\biggr ] \\biggr ] \\biggr ] \\biggr ] \\biggr ] \\biggr ] \\biggr ] \\biggr ] \\biggr ] \\biggr ] \\biggr ] \\biggr ] \\biggr ] \\biggr ] \\biggr ] \\biggr ] \\biggr ] \\biggr ]$$"
      ],
      "text/plain": [
       "<IPython.core.display.Math object>"
      ]
     },
     "metadata": {},
     "output_type": "display_data"
    },
    {
     "name": "stdout",
     "output_type": "stream",
     "text": [
      "\n",
      "\n",
      "Original (Input) Image: 41\n"
     ]
    },
    {
     "data": {
      "image/png": "[encoded data removed]",
      "text/plain": [
       "<IPython.core.display.Image object>"
      ]
     },
     "metadata": {},
     "output_type": "display_data"
    },
    {
     "name": "stdout",
     "output_type": "stream",
     "text": [
      "Predicted Latex\n",
      "a _ { + } ^ { \\prime } - \\frac { 1 } { \\rho } a _ { + } = \\frac { \\eta ^ { 2 } \\rho } { e } \\left( \\psi _ { 4 } ^ { 2 } - \\frac { 1 + c } { 2 } \\right) , \n",
      "\n",
      "Rendering the predicted latex\n"
     ]
    },
    {
     "data": {
      "text/latex": [
       "$$a _ { + } ^ { \\prime } - \\frac { 1 } { \\rho } a _ { + } = \\frac { \\eta ^ { 2 } \\rho } { e } \\left( \\psi _ { 4 } ^ { 2 } - \\frac { 1 + c } { 2 } \\right) , $$"
      ],
      "text/plain": [
       "<IPython.core.display.Math object>"
      ]
     },
     "metadata": {},
     "output_type": "display_data"
    },
    {
     "name": "stdout",
     "output_type": "stream",
     "text": [
      "\n",
      "\n",
      "Original (Input) Image: 42\n"
     ]
    },
    {
     "data": {
      "image/png": "[encoded data removed]",
      "text/plain": [
       "<IPython.core.display.Image object>"
      ]
     },
     "metadata": {},
     "output_type": "display_data"
    },
    {
     "name": "stdout",
     "output_type": "stream",
     "text": [
      "Predicted Latex\n",
      "\\Pi ^ { \\underline { { m } } } = \\frac { 1 } { 2 } ( e ^ { + + } u _ { \\underline { { m } } } ^ { -- } + e ^ { -- } u _ { \\underline { { m } } } ^ { + + } ) \n",
      "\n",
      "Rendering the predicted latex\n"
     ]
    },
    {
     "data": {
      "text/latex": [
       "$$\\Pi ^ { \\underline { { m } } } = \\frac { 1 } { 2 } ( e ^ { + + } u _ { \\underline { { m } } } ^ { -- } + e ^ { -- } u _ { \\underline { { m } } } ^ { + + } ) $$"
      ],
      "text/plain": [
       "<IPython.core.display.Math object>"
      ]
     },
     "metadata": {},
     "output_type": "display_data"
    },
    {
     "name": "stdout",
     "output_type": "stream",
     "text": [
      "\n",
      "\n",
      "Original (Input) Image: 43\n"
     ]
    },
    {
     "data": {
      "image/png": "[encoded data removed]",
      "text/plain": [
       "<IPython.core.display.Image object>"
      ]
     },
     "metadata": {},
     "output_type": "display_data"
    },
    {
     "name": "stdout",
     "output_type": "stream",
     "text": [
      "Predicted Latex\n",
      "\\sum _ { N = 0 } ^ { \\infty } N Z _ { N } q ^ { N } = \\langle 0 | \\phi ( q ) \\phi ( 1 ) | 0 \\rangle . \n",
      "\n",
      "Rendering the predicted latex\n"
     ]
    },
    {
     "data": {
      "text/latex": [
       "$$\\sum _ { N = 0 } ^ { \\infty } N Z _ { N } q ^ { N } = \\langle 0 | \\phi ( q ) \\phi ( 1 ) | 0 \\rangle . $$"
      ],
      "text/plain": [
       "<IPython.core.display.Math object>"
      ]
     },
     "metadata": {},
     "output_type": "display_data"
    },
    {
     "name": "stdout",
     "output_type": "stream",
     "text": [
      "\n",
      "\n",
      "Original (Input) Image: 44\n"
     ]
    },
    {
     "data": {
      "image/png": "[encoded data removed]",
      "text/plain": [
       "<IPython.core.display.Image object>"
      ]
     },
     "metadata": {},
     "output_type": "display_data"
    },
    {
     "name": "stdout",
     "output_type": "stream",
     "text": [
      "Predicted Latex\n",
      "\\delta ^ { ( 2 ) } ( x , p ) \\star \\delta ^ { ( 2 ) } \\left( x , p ) = \\frac 1 { \\pi ^ { 2 } \\theta ^ { 2 } } \n",
      "\n",
      "Rendering the predicted latex\n"
     ]
    },
    {
     "data": {
      "text/latex": [
       "$$\\delta ^ { ( 2 ) } ( x , p ) \\star \\delta ^ { ( 2 ) } \\left( x , p ) = \\frac 1 { \\pi ^ { 2 } \\theta ^ { 2 } } $$"
      ],
      "text/plain": [
       "<IPython.core.display.Math object>"
      ]
     },
     "metadata": {},
     "output_type": "display_data"
    },
    {
     "name": "stdout",
     "output_type": "stream",
     "text": [
      "\n",
      "\n",
      "Original (Input) Image: 45\n"
     ]
    },
    {
     "data": {
      "image/png": "[encoded data removed]",
      "text/plain": [
       "<IPython.core.display.Image object>"
      ]
     },
     "metadata": {},
     "output_type": "display_data"
    },
    {
     "name": "stdout",
     "output_type": "stream",
     "text": [
      "Predicted Latex\n",
      "S = \\kappa L \\sqrt { \\frac { 2 \\pi a } { n } } S _ { C } \\left[ 2 E - E _ { C } ] , \n",
      "\n",
      "Rendering the predicted latex\n"
     ]
    },
    {
     "data": {
      "text/latex": [
       "$$S = \\kappa L \\sqrt { \\frac { 2 \\pi a } { n } } S _ { C } \\left[ 2 E - E _ { C } ] , $$"
      ],
      "text/plain": [
       "<IPython.core.display.Math object>"
      ]
     },
     "metadata": {},
     "output_type": "display_data"
    },
    {
     "name": "stdout",
     "output_type": "stream",
     "text": [
      "\n",
      "\n",
      "Original (Input) Image: 46\n"
     ]
    },
    {
     "data": {
      "image/png": "[encoded data removed]",
      "text/plain": [
       "<IPython.core.display.Image object>"
      ]
     },
     "metadata": {},
     "output_type": "display_data"
    },
    {
     "name": "stdout",
     "output_type": "stream",
     "text": [
      "Predicted Latex\n",
      "\\partial \\phi _ { 0 } \\gamma _ { 2 1 } \\phi _ { 0 } ^ { - 1 } = \\frac { \\mathrm { e } ^ { \\gamma _ { 5 } \\beta } } { \\rho } ( j _ { 0 } + \\gamma _ { 5 } g _ { 0 } ) . \n",
      "\n",
      "Rendering the predicted latex\n"
     ]
    },
    {
     "data": {
      "text/latex": [
       "$$\\partial \\phi _ { 0 } \\gamma _ { 2 1 } \\phi _ { 0 } ^ { - 1 } = \\frac { \\mathrm { e } ^ { \\gamma _ { 5 } \\beta } } { \\rho } ( j _ { 0 } + \\gamma _ { 5 } g _ { 0 } ) . $$"
      ],
      "text/plain": [
       "<IPython.core.display.Math object>"
      ]
     },
     "metadata": {},
     "output_type": "display_data"
    },
    {
     "name": "stdout",
     "output_type": "stream",
     "text": [
      "\n",
      "\n",
      "Original (Input) Image: 47\n"
     ]
    },
    {
     "data": {
      "image/png": "[encoded data removed]",
      "text/plain": [
       "<IPython.core.display.Image object>"
      ]
     },
     "metadata": {},
     "output_type": "display_data"
    },
    {
     "name": "stdout",
     "output_type": "stream",
     "text": [
      "Predicted Latex\n",
      "{ \\frac { 1 } { 8 \\pi } } \\sum \\omega _ { i j } ^ { ( 2 ) } + { \\frac { 1 } { 8 \\pi } } \\sum \\Omega _ { i j k l } ^ { ( 3 ) } = \\frac { 1 } { 2 } \n",
      "\n",
      "Rendering the predicted latex\n"
     ]
    },
    {
     "data": {
      "text/latex": [
       "$${ \\frac { 1 } { 8 \\pi } } \\sum \\omega _ { i j } ^ { ( 2 ) } + { \\frac { 1 } { 8 \\pi } } \\sum \\Omega _ { i j k l } ^ { ( 3 ) } = \\frac { 1 } { 2 } $$"
      ],
      "text/plain": [
       "<IPython.core.display.Math object>"
      ]
     },
     "metadata": {},
     "output_type": "display_data"
    },
    {
     "name": "stdout",
     "output_type": "stream",
     "text": [
      "\n",
      "\n",
      "Original (Input) Image: 48\n"
     ]
    },
    {
     "data": {
      "image/png": "[encoded data removed]",
      "text/plain": [
       "<IPython.core.display.Image object>"
      ]
     },
     "metadata": {},
     "output_type": "display_data"
    },
    {
     "name": "stdout",
     "output_type": "stream",
     "text": [
      "Predicted Latex\n",
      "{ \\frac { 1 } { n } } \\sum _ { \\beta } W ^ { 0 \\beta } ( I _ { \\beta } ) _ { i i } = P _ { i } = | V _ { i } \\rangle \\langle V _ { i } | \n",
      "\n",
      "Rendering the predicted latex\n"
     ]
    },
    {
     "data": {
      "text/latex": [
       "$${ \\frac { 1 } { n } } \\sum _ { \\beta } W ^ { 0 \\beta } ( I _ { \\beta } ) _ { i i } = P _ { i } = | V _ { i } \\rangle \\langle V _ { i } | $$"
      ],
      "text/plain": [
       "<IPython.core.display.Math object>"
      ]
     },
     "metadata": {},
     "output_type": "display_data"
    },
    {
     "name": "stdout",
     "output_type": "stream",
     "text": [
      "\n",
      "\n",
      "Original (Input) Image: 49\n"
     ]
    },
    {
     "data": {
      "image/png": "[encoded data removed]",
      "text/plain": [
       "<IPython.core.display.Image object>"
      ]
     },
     "metadata": {},
     "output_type": "display_data"
    },
    {
     "name": "stdout",
     "output_type": "stream",
     "text": [
      "Predicted Latex\n",
      "S = S _ { a } = 4 \\pi \\; ( M ^ { 2 } - \\frac { 1 } { 2 } M _ { e x t r } ^ { 2 } ) \\ . \n",
      "\n",
      "Rendering the predicted latex\n"
     ]
    },
    {
     "data": {
      "text/latex": [
       "$$S = S _ { a } = 4 \\pi \\; ( M ^ { 2 } - \\frac { 1 } { 2 } M _ { e x t r } ^ { 2 } ) \\ . $$"
      ],
      "text/plain": [
       "<IPython.core.display.Math object>"
      ]
     },
     "metadata": {},
     "output_type": "display_data"
    },
    {
     "name": "stdout",
     "output_type": "stream",
     "text": [
      "\n",
      "\n",
      "Original (Input) Image: 50\n"
     ]
    },
    {
     "data": {
      "image/png": "[encoded data removed]",
      "text/plain": [
       "<IPython.core.display.Image object>"
      ]
     },
     "metadata": {},
     "output_type": "display_data"
    },
    {
     "name": "stdout",
     "output_type": "stream",
     "text": [
      "Predicted Latex\n",
      "\\Delta = \\frac { 1 } { 2 } [ d + \\sqrt { ( d - 2 ) ^ { 2 } + 4 m ^ { 2 } } ] \\, . \n",
      "\n",
      "Rendering the predicted latex\n"
     ]
    },
    {
     "data": {
      "text/latex": [
       "$$\\Delta = \\frac { 1 } { 2 } [ d + \\sqrt { ( d - 2 ) ^ { 2 } + 4 m ^ { 2 } } ] \\, . $$"
      ],
      "text/plain": [
       "<IPython.core.display.Math object>"
      ]
     },
     "metadata": {},
     "output_type": "display_data"
    },
    {
     "name": "stdout",
     "output_type": "stream",
     "text": [
      "\n",
      "\n",
      "Original (Input) Image: 51\n"
     ]
    },
    {
     "data": {
      "image/png": "[encoded data removed]",
      "text/plain": [
       "<IPython.core.display.Image object>"
      ]
     },
     "metadata": {},
     "output_type": "display_data"
    },
    {
     "name": "stdout",
     "output_type": "stream",
     "text": [
      "Predicted Latex\n",
      "\\left\\{ - \\frac { d ^ { 2 } } { d r ^ { 2 } } + \\frac { \\gamma } { r } + V ( r ) \\right\\} u = k ^ { 2 } u \n",
      "\n",
      "Rendering the predicted latex\n"
     ]
    },
    {
     "data": {
      "text/latex": [
       "$$\\left\\{ - \\frac { d ^ { 2 } } { d r ^ { 2 } } + \\frac { \\gamma } { r } + V ( r ) \\right\\} u = k ^ { 2 } u $$"
      ],
      "text/plain": [
       "<IPython.core.display.Math object>"
      ]
     },
     "metadata": {},
     "output_type": "display_data"
    },
    {
     "name": "stdout",
     "output_type": "stream",
     "text": [
      "\n",
      "\n",
      "Original (Input) Image: 52\n"
     ]
    },
    {
     "data": {
      "image/png": "[encoded data removed]",
      "text/plain": [
       "<IPython.core.display.Image object>"
      ]
     },
     "metadata": {},
     "output_type": "display_data"
    },
    {
     "name": "stdout",
     "output_type": "stream",
     "text": [
      "Predicted Latex\n",
      "I _ { \\alpha \\beta \\gamma \\delta } = \\frac { 1 } { 2 } \\left( \\eta _ { \\alpha \\gamma } \\eta _ { \\beta \\delta } + \\eta _ { \\alpha \\delta } \\eta _ { \\beta \\gamma } \\right) . \n",
      "\n",
      "Rendering the predicted latex\n"
     ]
    },
    {
     "data": {
      "text/latex": [
       "$$I _ { \\alpha \\beta \\gamma \\delta } = \\frac { 1 } { 2 } \\left( \\eta _ { \\alpha \\gamma } \\eta _ { \\beta \\delta } + \\eta _ { \\alpha \\delta } \\eta _ { \\beta \\gamma } \\right) . $$"
      ],
      "text/plain": [
       "<IPython.core.display.Math object>"
      ]
     },
     "metadata": {},
     "output_type": "display_data"
    },
    {
     "name": "stdout",
     "output_type": "stream",
     "text": [
      "\n",
      "\n",
      "Original (Input) Image: 53\n"
     ]
    },
    {
     "data": {
      "image/png": "[encoded data removed]",
      "text/plain": [
       "<IPython.core.display.Image object>"
      ]
     },
     "metadata": {},
     "output_type": "display_data"
    },
    {
     "name": "stdout",
     "output_type": "stream",
     "text": [
      "Predicted Latex\n",
      "\\chi _ { 0 } ( x ) = \\operatorname { e x p } \\{ - \\frac { 1 } { 2 } \\tilde { G } ( x ; \\{ \\zeta \\} \\} ) . \n",
      "\n",
      "Rendering the predicted latex\n"
     ]
    },
    {
     "data": {
      "text/latex": [
       "$$\\chi _ { 0 } ( x ) = \\operatorname { e x p } \\{ - \\frac { 1 } { 2 } \\tilde { G } ( x ; \\{ \\zeta \\} \\} ) . $$"
      ],
      "text/plain": [
       "<IPython.core.display.Math object>"
      ]
     },
     "metadata": {},
     "output_type": "display_data"
    },
    {
     "name": "stdout",
     "output_type": "stream",
     "text": [
      "\n",
      "\n",
      "Original (Input) Image: 54\n"
     ]
    },
    {
     "data": {
      "image/png": "[encoded data removed]",
      "text/plain": [
       "<IPython.core.display.Image object>"
      ]
     },
     "metadata": {},
     "output_type": "display_data"
    },
    {
     "name": "stdout",
     "output_type": "stream",
     "text": [
      "Predicted Latex\n",
      "\\Pi _ { i } = \\frac { \\partial { \\cal L } } { \\partial ( \\partial _ { 0 } A ^ { i } ) } = \\frac { \\kappa } { 2 } \\epsilon _ { i j } A ^ { j } - \\mu F ^ { i 0 } . \n",
      "\n",
      "Rendering the predicted latex\n"
     ]
    },
    {
     "data": {
      "text/latex": [
       "$$\\Pi _ { i } = \\frac { \\partial { \\cal L } } { \\partial ( \\partial _ { 0 } A ^ { i } ) } = \\frac { \\kappa } { 2 } \\epsilon _ { i j } A ^ { j } - \\mu F ^ { i 0 } . $$"
      ],
      "text/plain": [
       "<IPython.core.display.Math object>"
      ]
     },
     "metadata": {},
     "output_type": "display_data"
    },
    {
     "name": "stdout",
     "output_type": "stream",
     "text": [
      "\n",
      "\n",
      "Original (Input) Image: 55\n"
     ]
    },
    {
     "data": {
      "image/png": "[encoded data removed]",
      "text/plain": [
       "<IPython.core.display.Image object>"
      ]
     },
     "metadata": {},
     "output_type": "display_data"
    },
    {
     "name": "stdout",
     "output_type": "stream",
     "text": [
      "Predicted Latex\n",
      "\\frac { \\partial \\psi ( t ) } { \\partial t } = \\frac { \\partial U ( t ) } { \\partial t } \\psi ( 0 ) = B ( t ) \\psi ( t ) \n",
      "\n",
      "Rendering the predicted latex\n"
     ]
    },
    {
     "data": {
      "text/latex": [
       "$$\\frac { \\partial \\psi ( t ) } { \\partial t } = \\frac { \\partial U ( t ) } { \\partial t } \\psi ( 0 ) = B ( t ) \\psi ( t ) $$"
      ],
      "text/plain": [
       "<IPython.core.display.Math object>"
      ]
     },
     "metadata": {},
     "output_type": "display_data"
    },
    {
     "name": "stdout",
     "output_type": "stream",
     "text": [
      "\n",
      "\n",
      "Original (Input) Image: 56\n"
     ]
    },
    {
     "data": {
      "image/png": "[encoded data removed]",
      "text/plain": [
       "<IPython.core.display.Image object>"
      ]
     },
     "metadata": {},
     "output_type": "display_data"
    },
    {
     "name": "stdout",
     "output_type": "stream",
     "text": [
      "Predicted Latex\n",
      "a _ { + } ^ { \\prime } - \\frac { 1 } { \\rho } a _ { + } = \\frac { \\eta ^ { 2 } \\rho } { e } \\left( \\psi _ { 4 } ^ { 2 } - \\frac { 1 + c } { 2 } \\right) , \n",
      "\n",
      "Rendering the predicted latex\n"
     ]
    },
    {
     "data": {
      "text/latex": [
       "$$a _ { + } ^ { \\prime } - \\frac { 1 } { \\rho } a _ { + } = \\frac { \\eta ^ { 2 } \\rho } { e } \\left( \\psi _ { 4 } ^ { 2 } - \\frac { 1 + c } { 2 } \\right) , $$"
      ],
      "text/plain": [
       "<IPython.core.display.Math object>"
      ]
     },
     "metadata": {},
     "output_type": "display_data"
    },
    {
     "name": "stdout",
     "output_type": "stream",
     "text": [
      "\n",
      "\n",
      "Original (Input) Image: 57\n"
     ]
    },
    {
     "data": {
      "image/png": "[encoded data removed]",
      "text/plain": [
       "<IPython.core.display.Image object>"
      ]
     },
     "metadata": {},
     "output_type": "display_data"
    },
    {
     "name": "stdout",
     "output_type": "stream",
     "text": [
      "Predicted Latex\n",
      "J _ { \\mu } ^ { ( n ) } = \\frac { \\bar { u } ^ { n } \\partial _ { \\mu } u } { ( 1 + | u | ^ { 2 } ) ^ { j + 1 } } , \\; \\; \\; n \\in { \\bf Z } \n",
      "\n",
      "Rendering the predicted latex\n"
     ]
    },
    {
     "data": {
      "text/latex": [
       "$$J _ { \\mu } ^ { ( n ) } = \\frac { \\bar { u } ^ { n } \\partial _ { \\mu } u } { ( 1 + | u | ^ { 2 } ) ^ { j + 1 } } , \\; \\; \\; n \\in { \\bf Z } $$"
      ],
      "text/plain": [
       "<IPython.core.display.Math object>"
      ]
     },
     "metadata": {},
     "output_type": "display_data"
    },
    {
     "name": "stdout",
     "output_type": "stream",
     "text": [
      "\n",
      "\n",
      "Original (Input) Image: 58\n"
     ]
    },
    {
     "data": {
      "image/png": "[encoded data removed]",
      "text/plain": [
       "<IPython.core.display.Image object>"
      ]
     },
     "metadata": {},
     "output_type": "display_data"
    },
    {
     "name": "stdout",
     "output_type": "stream",
     "text": [
      "Predicted Latex\n",
      "f ( k , \\varphi ) = \\sum _ { m = - \\infty } ^ { \\infty } f _ { m } ( k ) \\frac { e ^ { - i m \\varphi } } { \\sqrt { 2 \\pi } } ~ , \n",
      "\n",
      "Rendering the predicted latex\n"
     ]
    },
    {
     "data": {
      "text/latex": [
       "$$f ( k , \\varphi ) = \\sum _ { m = - \\infty } ^ { \\infty } f _ { m } ( k ) \\frac { e ^ { - i m \\varphi } } { \\sqrt { 2 \\pi } } ~ , $$"
      ],
      "text/plain": [
       "<IPython.core.display.Math object>"
      ]
     },
     "metadata": {},
     "output_type": "display_data"
    },
    {
     "name": "stdout",
     "output_type": "stream",
     "text": [
      "\n",
      "\n",
      "Original (Input) Image: 59\n"
     ]
    },
    {
     "data": {
      "image/png": "[encoded data removed]",
      "text/plain": [
       "<IPython.core.display.Image object>"
      ]
     },
     "metadata": {},
     "output_type": "display_data"
    },
    {
     "name": "stdout",
     "output_type": "stream",
     "text": [
      "Predicted Latex\n",
      "R = \\left( \\begin{array} { c c } { W _ { R } } & { 0 } \\\\ { 0 } & { r } \\\\ \\end{array} \\right) = G ^ { \\prime } \\; \\Delta \\; G ^ { \\prime } \n",
      "\n",
      "Rendering the predicted latex\n"
     ]
    },
    {
     "data": {
      "text/latex": [
       "$$R = \\left( \\begin{array} { c c } { W _ { R } } & { 0 } \\\\ { 0 } & { r } \\\\ \\end{array} \\right) = G ^ { \\prime } \\; \\Delta \\; G ^ { \\prime } $$"
      ],
      "text/plain": [
       "<IPython.core.display.Math object>"
      ]
     },
     "metadata": {},
     "output_type": "display_data"
    },
    {
     "name": "stdout",
     "output_type": "stream",
     "text": [
      "\n",
      "\n",
      "Original (Input) Image: 60\n"
     ]
    },
    {
     "data": {
      "image/png": "[encoded data removed]",
      "text/plain": [
       "<IPython.core.display.Image object>"
      ]
     },
     "metadata": {},
     "output_type": "display_data"
    },
    {
     "name": "stdout",
     "output_type": "stream",
     "text": [
      "Predicted Latex\n",
      "\\lambda \\rightarrow \\frac { t } { l } ~ ~ ~ , ~ ~ ~ \\mu \\rightarrow \\frac { r } { l } ~ ~ ~ , ~ ~ l \\rightarrow \\infty \n",
      "\n",
      "Rendering the predicted latex\n"
     ]
    },
    {
     "data": {
      "text/latex": [
       "$$\\lambda \\rightarrow \\frac { t } { l } ~ ~ ~ , ~ ~ ~ \\mu \\rightarrow \\frac { r } { l } ~ ~ ~ , ~ ~ l \\rightarrow \\infty $$"
      ],
      "text/plain": [
       "<IPython.core.display.Math object>"
      ]
     },
     "metadata": {},
     "output_type": "display_data"
    },
    {
     "name": "stdout",
     "output_type": "stream",
     "text": [
      "\n",
      "\n",
      "Original (Input) Image: 61\n"
     ]
    },
    {
     "data": {
      "image/png": "[encoded data removed]",
      "text/plain": [
       "<IPython.core.display.Image object>"
      ]
     },
     "metadata": {},
     "output_type": "display_data"
    },
    {
     "name": "stdout",
     "output_type": "stream",
     "text": [
      "Predicted Latex\n",
      "I _ { ( 1 ) } ^ { \\Lambda , \\Lambda _ { 0 } } ( x ) : = \\frac { \\delta } { \\delta \\varrho ( x ) } \\tilde { I } ^ { \\Lambda , \\Lambda _ { 0 } } ( \\varrho ) | _ { g ( x ) = 0 } \\, . \n",
      "\n",
      "Rendering the predicted latex\n"
     ]
    },
    {
     "data": {
      "text/latex": [
       "$$I _ { ( 1 ) } ^ { \\Lambda , \\Lambda _ { 0 } } ( x ) : = \\frac { \\delta } { \\delta \\varrho ( x ) } \\tilde { I } ^ { \\Lambda , \\Lambda _ { 0 } } ( \\varrho ) | _ { g ( x ) = 0 } \\, . $$"
      ],
      "text/plain": [
       "<IPython.core.display.Math object>"
      ]
     },
     "metadata": {},
     "output_type": "display_data"
    },
    {
     "name": "stdout",
     "output_type": "stream",
     "text": [
      "\n",
      "\n",
      "Original (Input) Image: 62\n"
     ]
    },
    {
     "data": {
      "image/png": "[encoded data removed]",
      "text/plain": [
       "<IPython.core.display.Image object>"
      ]
     },
     "metadata": {},
     "output_type": "display_data"
    },
    {
     "name": "stdout",
     "output_type": "stream",
     "text": [
      "Predicted Latex\n",
      "Q _ { 3 } = \\mathrm { d i a g } \\left( - { \\frac { 1 } { 3 } } , - { \\frac { 1 } { 3 } } , + { \\frac { 2 } { 3 } } , 0 , 0 \\right) \n",
      "\n",
      "Rendering the predicted latex\n"
     ]
    },
    {
     "data": {
      "text/latex": [
       "$$Q _ { 3 } = \\mathrm { d i a g } \\left( - { \\frac { 1 } { 3 } } , - { \\frac { 1 } { 3 } } , + { \\frac { 2 } { 3 } } , 0 , 0 \\right) $$"
      ],
      "text/plain": [
       "<IPython.core.display.Math object>"
      ]
     },
     "metadata": {},
     "output_type": "display_data"
    },
    {
     "name": "stdout",
     "output_type": "stream",
     "text": [
      "\n",
      "\n",
      "Original (Input) Image: 63\n"
     ]
    },
    {
     "data": {
      "image/png": "[encoded data removed]",
      "text/plain": [
       "<IPython.core.display.Image object>"
      ]
     },
     "metadata": {},
     "output_type": "display_data"
    },
    {
     "name": "stdout",
     "output_type": "stream",
     "text": [
      "Predicted Latex\n",
      "\\zeta ( s \\, ; \\, A ) = \\sum _ { j } \\frac { 1 } { \\lambda _ { j } ^ { s } } \\, \\, \\, \\, \\, \\, \\, \\, \\, \\, \\, \\, \\, \\, s \\in { \\bf C } \n",
      "\n",
      "Rendering the predicted latex\n"
     ]
    },
    {
     "data": {
      "text/latex": [
       "$$\\zeta ( s \\, ; \\, A ) = \\sum _ { j } \\frac { 1 } { \\lambda _ { j } ^ { s } } \\, \\, \\, \\, \\, \\, \\, \\, \\, \\, \\, \\, \\, \\, s \\in { \\bf C } $$"
      ],
      "text/plain": [
       "<IPython.core.display.Math object>"
      ]
     },
     "metadata": {},
     "output_type": "display_data"
    },
    {
     "name": "stdout",
     "output_type": "stream",
     "text": [
      "\n",
      "\n",
      "Original (Input) Image: 64\n"
     ]
    },
    {
     "data": {
      "image/png": "[encoded data removed]",
      "text/plain": [
       "<IPython.core.display.Image object>"
      ]
     },
     "metadata": {},
     "output_type": "display_data"
    },
    {
     "name": "stdout",
     "output_type": "stream",
     "text": [
      "Predicted Latex\n",
      "\\Sigma ( p ) \\sim g \\int ^ { \\Lambda } \\Gamma \\frac { d ^ { 4 } k } { \\gamma ^ { \\mu } ( k + p ) _ { \\mu } } \\Gamma \\, , \n",
      "\n",
      "Rendering the predicted latex\n"
     ]
    },
    {
     "data": {
      "text/latex": [
       "$$\\Sigma ( p ) \\sim g \\int ^ { \\Lambda } \\Gamma \\frac { d ^ { 4 } k } { \\gamma ^ { \\mu } ( k + p ) _ { \\mu } } \\Gamma \\, , $$"
      ],
      "text/plain": [
       "<IPython.core.display.Math object>"
      ]
     },
     "metadata": {},
     "output_type": "display_data"
    },
    {
     "name": "stdout",
     "output_type": "stream",
     "text": [
      "\n",
      "\n"
     ]
    }
   ],
   "source": [
    "batch_size=64\n",
    "from PIL import Image as Img\n",
    "for i in xrange(batch_size):\n",
    "    preds_chars = idx_to_chars(preds[i,1:]).replace('$','')\n",
    "    print \"Original (Input) Image: %d\"%(i+1)\n",
    "    showarray(imgs[i][0])\n",
    "    print \"Predicted Latex\"\n",
    "    print preds_chars.split('#END')[0]\n",
    "    print \"\\nRendering the predicted latex\"\n",
    "    displayPreds(preds_chars)\n",
    "    print \"\\n\""
   ]
  },
  {
   "cell_type": "code",
   "execution_count": null,
   "metadata": {
    "collapsed": true
   },
   "outputs": [],
   "source": []
  }
 ],
 "metadata": {
  "kernelspec": {
   "display_name": "Python 2",
   "language": "python",
   "name": "python2"
  },
  "language_info": {
   "codemirror_mode": {
    "name": "ipython",
    "version": 2
   },
   "file_extension": ".py",
   "mimetype": "text/x-python",
   "name": "python",
   "nbconvert_exporter": "python",
   "pygments_lexer": "ipython2",
   "version": "2.7.12"
  }
 },
 "nbformat": 4,
 "nbformat_minor": 1
}
